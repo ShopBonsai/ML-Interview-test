{
 "cells": [
  {
   "cell_type": "markdown",
   "metadata": {},
   "source": [
    "# Bonsai ML Test\n",
    "\n",
    "*Task*: Using the provided Mixpanel data of purchase histories, recommend a product that a user is most likely to buy next.\n",
    "\n",
    "*Outline of methodology*: Collaborative filtering will be used alongside a popularity-based approach to account for user cold-start. For the collaborative filtering method, users that have bought fewer than 5 unique items will be set aside. Only those users who meet this threshold will be used to predict a personal rating for each product. A separate, popularity based model will however use all users in the dataset. This appraoch will use an implicit rating in the form of popularity (defined here as a function of product purchases and product returns) to predict ratings. These two ratings will be combined to give a final rating for each user-product pair."
   ]
  },
  {
   "cell_type": "markdown",
   "metadata": {},
   "source": [
    "## 0. Libraries"
   ]
  },
  {
   "cell_type": "code",
   "execution_count": 1,
   "metadata": {
    "collapsed": true
   },
   "outputs": [],
   "source": [
    "import json\n",
    "import numpy as np\n",
    "import pandas as pd\n",
    "\n",
    "# pretty visuals\n",
    "from wordcloud import WordCloud\n",
    "from wordcloud import STOPWORDS\n",
    "from PIL import Image\n",
    "import matplotlib.pyplot as plt\n",
    "%matplotlib inline\n",
    "\n",
    "# collaborative filtering\n",
    "import surprise as s\n",
    "from surprise.model_selection import train_test_split\n",
    "from surprise.prediction_algorithms import SVD"
   ]
  },
  {
   "cell_type": "markdown",
   "metadata": {},
   "source": [
    "## 1. Data\n",
    "\n",
    "Begin by importing the data."
   ]
  },
  {
   "cell_type": "code",
   "execution_count": 2,
   "metadata": {},
   "outputs": [
    {
     "data": {
      "text/plain": [
       "{'event': 'Purchased Product',\n",
       " 'properties': {'country': 'United Kingdom',\n",
       "  'customer_id': 17850,\n",
       "  'description': 'WHITE HANGING HEART T-LIGHT HOLDER',\n",
       "  'invoice_date': '12/1/2010 8:26',\n",
       "  'invoice_no': '536365',\n",
       "  'product_id': '85123A',\n",
       "  'quantity': 6,\n",
       "  'unit_price': 2.55}}"
      ]
     },
     "execution_count": 2,
     "metadata": {},
     "output_type": "execute_result"
    }
   ],
   "source": [
    "with open('training_mixpanel.txt') as rawdata:\n",
    "    dicts = json.load(rawdata)\n",
    "\n",
    "dicts[0]"
   ]
  },
  {
   "cell_type": "markdown",
   "metadata": {},
   "source": [
    "Looking at the first key-value pair, we find that there is an inner dictionary containing the properties of each event."
   ]
  },
  {
   "cell_type": "code",
   "execution_count": 3,
   "metadata": {},
   "outputs": [
    {
     "data": {
      "text/plain": [
       "{'country': 'United Kingdom',\n",
       " 'customer_id': 17850,\n",
       " 'description': 'WHITE HANGING HEART T-LIGHT HOLDER',\n",
       " 'invoice_date': '12/1/2010 8:26',\n",
       " 'invoice_no': '536365',\n",
       " 'product_id': '85123A',\n",
       " 'quantity': 6,\n",
       " 'unit_price': 2.55}"
      ]
     },
     "execution_count": 3,
     "metadata": {},
     "output_type": "execute_result"
    }
   ],
   "source": [
    "# select the inner dictionary via 'properties' key\n",
    "dicts[0].get('properties')"
   ]
  },
  {
   "cell_type": "markdown",
   "metadata": {},
   "source": [
    "Let's make a separate list of all values for the \"event\" and \"properties\" keys."
   ]
  },
  {
   "cell_type": "code",
   "execution_count": 4,
   "metadata": {
    "collapsed": true
   },
   "outputs": [],
   "source": [
    "# collect all 'event' and 'properties' keys in separate lists\n",
    "event_list = []\n",
    "properties_list = []\n",
    "for i in range(len(dicts)):\n",
    "    event_list.append(dicts[i].get('event'))\n",
    "    properties_list.append(dicts[i].get('properties'))"
   ]
  },
  {
   "cell_type": "code",
   "execution_count": 5,
   "metadata": {},
   "outputs": [
    {
     "data": {
      "text/plain": [
       "{'Purchased Product'}"
      ]
     },
     "execution_count": 5,
     "metadata": {},
     "output_type": "execute_result"
    }
   ],
   "source": [
    "# unique events in the data\n",
    "set(event_list)"
   ]
  },
  {
   "cell_type": "markdown",
   "metadata": {},
   "source": [
    "Since they all have the same event: 'Purchased Product', goign forward we use only the values from properties."
   ]
  },
  {
   "cell_type": "code",
   "execution_count": 6,
   "metadata": {},
   "outputs": [
    {
     "data": {
      "text/html": [
       "<div>\n",
       "<style scoped>\n",
       "    .dataframe tbody tr th:only-of-type {\n",
       "        vertical-align: middle;\n",
       "    }\n",
       "\n",
       "    .dataframe tbody tr th {\n",
       "        vertical-align: top;\n",
       "    }\n",
       "\n",
       "    .dataframe thead th {\n",
       "        text-align: right;\n",
       "    }\n",
       "</style>\n",
       "<table border=\"1\" class=\"dataframe\">\n",
       "  <thead>\n",
       "    <tr style=\"text-align: right;\">\n",
       "      <th></th>\n",
       "      <th>country</th>\n",
       "      <th>customer_id</th>\n",
       "      <th>description</th>\n",
       "      <th>invoice_date</th>\n",
       "      <th>invoice_no</th>\n",
       "      <th>product_id</th>\n",
       "      <th>quantity</th>\n",
       "      <th>unit_price</th>\n",
       "    </tr>\n",
       "  </thead>\n",
       "  <tbody>\n",
       "    <tr>\n",
       "      <th>0</th>\n",
       "      <td>United Kingdom</td>\n",
       "      <td>17850</td>\n",
       "      <td>WHITE HANGING HEART T-LIGHT HOLDER</td>\n",
       "      <td>12/1/2010 8:26</td>\n",
       "      <td>536365</td>\n",
       "      <td>85123A</td>\n",
       "      <td>6</td>\n",
       "      <td>2.55</td>\n",
       "    </tr>\n",
       "    <tr>\n",
       "      <th>1</th>\n",
       "      <td>United Kingdom</td>\n",
       "      <td>17850</td>\n",
       "      <td>WHITE METAL LANTERN</td>\n",
       "      <td>12/1/2010 8:26</td>\n",
       "      <td>536365</td>\n",
       "      <td>71053</td>\n",
       "      <td>6</td>\n",
       "      <td>3.39</td>\n",
       "    </tr>\n",
       "    <tr>\n",
       "      <th>2</th>\n",
       "      <td>United Kingdom</td>\n",
       "      <td>17850</td>\n",
       "      <td>SET 7 BABUSHKA NESTING BOXES</td>\n",
       "      <td>12/1/2010 8:26</td>\n",
       "      <td>536365</td>\n",
       "      <td>22752</td>\n",
       "      <td>2</td>\n",
       "      <td>7.65</td>\n",
       "    </tr>\n",
       "    <tr>\n",
       "      <th>3</th>\n",
       "      <td>United Kingdom</td>\n",
       "      <td>17850</td>\n",
       "      <td>GLASS STAR FROSTED T-LIGHT HOLDER</td>\n",
       "      <td>12/1/2010 8:26</td>\n",
       "      <td>536365</td>\n",
       "      <td>21730</td>\n",
       "      <td>6</td>\n",
       "      <td>4.25</td>\n",
       "    </tr>\n",
       "    <tr>\n",
       "      <th>4</th>\n",
       "      <td>United Kingdom</td>\n",
       "      <td>17850</td>\n",
       "      <td>HAND WARMER UNION JACK</td>\n",
       "      <td>12/1/2010 8:28</td>\n",
       "      <td>536366</td>\n",
       "      <td>22633</td>\n",
       "      <td>6</td>\n",
       "      <td>1.85</td>\n",
       "    </tr>\n",
       "  </tbody>\n",
       "</table>\n",
       "</div>"
      ],
      "text/plain": [
       "          country  customer_id                         description  \\\n",
       "0  United Kingdom        17850  WHITE HANGING HEART T-LIGHT HOLDER   \n",
       "1  United Kingdom        17850                 WHITE METAL LANTERN   \n",
       "2  United Kingdom        17850        SET 7 BABUSHKA NESTING BOXES   \n",
       "3  United Kingdom        17850   GLASS STAR FROSTED T-LIGHT HOLDER   \n",
       "4  United Kingdom        17850              HAND WARMER UNION JACK   \n",
       "\n",
       "     invoice_date invoice_no product_id  quantity  unit_price  \n",
       "0  12/1/2010 8:26     536365     85123A         6        2.55  \n",
       "1  12/1/2010 8:26     536365      71053         6        3.39  \n",
       "2  12/1/2010 8:26     536365      22752         2        7.65  \n",
       "3  12/1/2010 8:26     536365      21730         6        4.25  \n",
       "4  12/1/2010 8:28     536366      22633         6        1.85  "
      ]
     },
     "execution_count": 6,
     "metadata": {},
     "output_type": "execute_result"
    }
   ],
   "source": [
    "properties = pd.DataFrame(properties_list)\n",
    "properties.head()"
   ]
  },
  {
   "cell_type": "markdown",
   "metadata": {},
   "source": [
    "## 2. Data exploration and preprocessing"
   ]
  },
  {
   "cell_type": "markdown",
   "metadata": {},
   "source": [
    "Check if there are any null values."
   ]
  },
  {
   "cell_type": "code",
   "execution_count": 7,
   "metadata": {},
   "outputs": [
    {
     "name": "stdout",
     "output_type": "stream",
     "text": [
      "<class 'pandas.core.frame.DataFrame'>\n",
      "RangeIndex: 322875 entries, 0 to 322874\n",
      "Data columns (total 8 columns):\n",
      "country         322875 non-null object\n",
      "customer_id     322875 non-null int64\n",
      "description     322875 non-null object\n",
      "invoice_date    322875 non-null object\n",
      "invoice_no      322875 non-null object\n",
      "product_id      322875 non-null object\n",
      "quantity        322875 non-null int64\n",
      "unit_price      322875 non-null float64\n",
      "dtypes: float64(1), int64(2), object(5)\n",
      "memory usage: 19.7+ MB\n"
     ]
    }
   ],
   "source": [
    "properties.info()"
   ]
  },
  {
   "cell_type": "markdown",
   "metadata": {},
   "source": [
    "Let's see if there is a need to remove potential duplicate rows (where all column values are repeated)."
   ]
  },
  {
   "cell_type": "code",
   "execution_count": 8,
   "metadata": {},
   "outputs": [
    {
     "data": {
      "text/plain": [
       "(318776, 8)"
      ]
     },
     "execution_count": 8,
     "metadata": {},
     "output_type": "execute_result"
    }
   ],
   "source": [
    "properties.drop_duplicates().shape"
   ]
  },
  {
   "cell_type": "markdown",
   "metadata": {},
   "source": [
    "Since there are fewer rows here than in the original dataframe, we can drop duplicates."
   ]
  },
  {
   "cell_type": "code",
   "execution_count": 9,
   "metadata": {
    "collapsed": true
   },
   "outputs": [],
   "source": [
    "properties = properties.drop_duplicates()"
   ]
  },
  {
   "cell_type": "markdown",
   "metadata": {},
   "source": [
    "Look at the distribution of unit price and purchase quantity."
   ]
  },
  {
   "cell_type": "code",
   "execution_count": 10,
   "metadata": {},
   "outputs": [
    {
     "data": {
      "text/plain": [
       "count    318776.000000\n",
       "mean          2.940360\n",
       "std           6.263049\n",
       "min           0.000000\n",
       "25%           1.250000\n",
       "50%           1.950000\n",
       "75%           3.750000\n",
       "max        1100.440000\n",
       "Name: unit_price, dtype: float64"
      ]
     },
     "execution_count": 10,
     "metadata": {},
     "output_type": "execute_result"
    }
   ],
   "source": [
    "# summary of statistics for the distribution of unit price\n",
    "properties['unit_price'].describe()"
   ]
  },
  {
   "cell_type": "code",
   "execution_count": 11,
   "metadata": {},
   "outputs": [
    {
     "data": {
      "text/plain": [
       "count    318776.000000\n",
       "mean         12.229004\n",
       "std         280.085461\n",
       "min      -80995.000000\n",
       "25%           2.000000\n",
       "50%           5.000000\n",
       "75%          12.000000\n",
       "max       80995.000000\n",
       "Name: quantity, dtype: float64"
      ]
     },
     "execution_count": 11,
     "metadata": {},
     "output_type": "execute_result"
    }
   ],
   "source": [
    "# summary of statistics for the distribution of quantity\n",
    "properties['quantity'].describe()"
   ]
  },
  {
   "cell_type": "markdown",
   "metadata": {},
   "source": [
    "There seem to be items with negative quantity values. Looking at a few of these rows, they are likely returned products. "
   ]
  },
  {
   "cell_type": "code",
   "execution_count": 12,
   "metadata": {},
   "outputs": [
    {
     "data": {
      "text/html": [
       "<div>\n",
       "<style scoped>\n",
       "    .dataframe tbody tr th:only-of-type {\n",
       "        vertical-align: middle;\n",
       "    }\n",
       "\n",
       "    .dataframe tbody tr th {\n",
       "        vertical-align: top;\n",
       "    }\n",
       "\n",
       "    .dataframe thead th {\n",
       "        text-align: right;\n",
       "    }\n",
       "</style>\n",
       "<table border=\"1\" class=\"dataframe\">\n",
       "  <thead>\n",
       "    <tr style=\"text-align: right;\">\n",
       "      <th></th>\n",
       "      <th>country</th>\n",
       "      <th>customer_id</th>\n",
       "      <th>description</th>\n",
       "      <th>invoice_date</th>\n",
       "      <th>invoice_no</th>\n",
       "      <th>product_id</th>\n",
       "      <th>quantity</th>\n",
       "      <th>unit_price</th>\n",
       "    </tr>\n",
       "  </thead>\n",
       "  <tbody>\n",
       "    <tr>\n",
       "      <th>117</th>\n",
       "      <td>United Kingdom</td>\n",
       "      <td>15311</td>\n",
       "      <td>SET OF 3 COLOURED  FLYING DUCKS</td>\n",
       "      <td>12/1/2010 9:49</td>\n",
       "      <td>C536383</td>\n",
       "      <td>35004C</td>\n",
       "      <td>-1</td>\n",
       "      <td>4.65</td>\n",
       "    </tr>\n",
       "    <tr>\n",
       "      <th>187</th>\n",
       "      <td>United Kingdom</td>\n",
       "      <td>17548</td>\n",
       "      <td>PLASTERS IN TIN CIRCUS PARADE</td>\n",
       "      <td>12/1/2010 10:24</td>\n",
       "      <td>C536391</td>\n",
       "      <td>22556</td>\n",
       "      <td>-12</td>\n",
       "      <td>1.65</td>\n",
       "    </tr>\n",
       "    <tr>\n",
       "      <th>188</th>\n",
       "      <td>United Kingdom</td>\n",
       "      <td>17548</td>\n",
       "      <td>PACK OF 12 PINK PAISLEY TISSUES</td>\n",
       "      <td>12/1/2010 10:24</td>\n",
       "      <td>C536391</td>\n",
       "      <td>21984</td>\n",
       "      <td>-24</td>\n",
       "      <td>0.29</td>\n",
       "    </tr>\n",
       "    <tr>\n",
       "      <th>189</th>\n",
       "      <td>United Kingdom</td>\n",
       "      <td>17548</td>\n",
       "      <td>PACK OF 12 BLUE PAISLEY TISSUES</td>\n",
       "      <td>12/1/2010 10:24</td>\n",
       "      <td>C536391</td>\n",
       "      <td>21983</td>\n",
       "      <td>-24</td>\n",
       "      <td>0.29</td>\n",
       "    </tr>\n",
       "    <tr>\n",
       "      <th>190</th>\n",
       "      <td>United Kingdom</td>\n",
       "      <td>17548</td>\n",
       "      <td>PACK OF 12 RED RETROSPOT TISSUES</td>\n",
       "      <td>12/1/2010 10:24</td>\n",
       "      <td>C536391</td>\n",
       "      <td>21980</td>\n",
       "      <td>-24</td>\n",
       "      <td>0.29</td>\n",
       "    </tr>\n",
       "  </tbody>\n",
       "</table>\n",
       "</div>"
      ],
      "text/plain": [
       "            country  customer_id                        description  \\\n",
       "117  United Kingdom        15311    SET OF 3 COLOURED  FLYING DUCKS   \n",
       "187  United Kingdom        17548     PLASTERS IN TIN CIRCUS PARADE    \n",
       "188  United Kingdom        17548   PACK OF 12 PINK PAISLEY TISSUES    \n",
       "189  United Kingdom        17548   PACK OF 12 BLUE PAISLEY TISSUES    \n",
       "190  United Kingdom        17548  PACK OF 12 RED RETROSPOT TISSUES    \n",
       "\n",
       "        invoice_date invoice_no product_id  quantity  unit_price  \n",
       "117   12/1/2010 9:49    C536383     35004C        -1        4.65  \n",
       "187  12/1/2010 10:24    C536391      22556       -12        1.65  \n",
       "188  12/1/2010 10:24    C536391      21984       -24        0.29  \n",
       "189  12/1/2010 10:24    C536391      21983       -24        0.29  \n",
       "190  12/1/2010 10:24    C536391      21980       -24        0.29  "
      ]
     },
     "execution_count": 12,
     "metadata": {},
     "output_type": "execute_result"
    }
   ],
   "source": [
    "properties.loc[properties['quantity'] < 0].head()"
   ]
  },
  {
   "cell_type": "markdown",
   "metadata": {},
   "source": [
    "There are however products in the dataset that have only been returned, but not bought. Likewise there are users who only have a record of returning an item."
   ]
  },
  {
   "cell_type": "code",
   "execution_count": 13,
   "metadata": {},
   "outputs": [
    {
     "name": "stdout",
     "output_type": "stream",
     "text": [
      "products with no record of purchase, but that have been returned: 18\n",
      "customers with no record of purchase, but that have returned items: 28\n"
     ]
    }
   ],
   "source": [
    "print('products with no record of purchase, but that have been returned:',\n",
    "      properties['product_id'].nunique() - properties.loc[properties['quantity'] >= 0]['product_id'].nunique())\n",
    "print('customers with no record of purchase, but that have returned items:',\n",
    "      properties['customer_id'].nunique() - properties.loc[properties['quantity'] >= 0]['customer_id'].nunique())"
   ]
  },
  {
   "cell_type": "markdown",
   "metadata": {},
   "source": [
    "Let's create a column that will contain the rate of return for each item, i.e. the ratio of total purchases to total returns. This will be used to calculate product popularity later."
   ]
  },
  {
   "cell_type": "code",
   "execution_count": 14,
   "metadata": {
    "collapsed": true
   },
   "outputs": [],
   "source": [
    "def rate_of_return(df=properties):\n",
    "\n",
    "    ''' The ratio of purchases to returns of each product. '''\n",
    "    \n",
    "    # first, add a column indicating the return count of an item on a single invoice\n",
    "    df.loc[df['quantity'] >= 0, 'product_return_count'] = 0\n",
    "    df.loc[df['quantity'] < 0, 'product_return_count'] = -1*df['quantity']\n",
    "    # next, add a column indicating the total number of times an item was returned\n",
    "    num_product_returned = df.groupby('product_id')['product_return_count'].sum()\n",
    "    df = df.join(num_product_returned.to_frame(name='num_product_returned'), on='product_id')\n",
    "    \n",
    "    # disregard information on returned products (just for the below aggregate)\n",
    "    products_purchased = df.loc[df['quantity'] >= 0]\n",
    "    # then, add a column containing the total number of times an item was purchased\n",
    "    num_product_purchased = products_purchased.groupby(['product_id'])['quantity'].sum()\n",
    "    df = df.join(num_product_purchased.to_frame(name='num_product_purchased'), on='product_id')\n",
    "\n",
    "    # replace null values with 0, indicating this product has no purchase info (purchased 0 times)\n",
    "    df['num_product_purchased'] = df['num_product_purchased'].fillna(0)\n",
    "    # define product return rate; note that there will be division by 0\n",
    "    df['product_return_rate'] = df['num_product_returned'] / df['num_product_purchased']\n",
    "    # and replace inf (from previous division by 0) with null\n",
    "    df['product_return_rate'] = df['product_return_rate'].replace([np.inf,-np.inf], np.nan)\n",
    "\n",
    "    # replace null values with the maximal return rate\n",
    "    max_return_rate = df['product_return_rate'].max()\n",
    "    df['product_return_rate'] = df['product_return_rate'].fillna(max_return_rate)\n",
    "    \n",
    "    # finally, drop the new columns that aren't needed (num_product_purchased will be used later)\n",
    "    df = df.drop(['product_return_count','num_product_returned'], axis=1)\n",
    "\n",
    "    return df"
   ]
  },
  {
   "cell_type": "code",
   "execution_count": 15,
   "metadata": {},
   "outputs": [
    {
     "data": {
      "text/html": [
       "<div>\n",
       "<style scoped>\n",
       "    .dataframe tbody tr th:only-of-type {\n",
       "        vertical-align: middle;\n",
       "    }\n",
       "\n",
       "    .dataframe tbody tr th {\n",
       "        vertical-align: top;\n",
       "    }\n",
       "\n",
       "    .dataframe thead th {\n",
       "        text-align: right;\n",
       "    }\n",
       "</style>\n",
       "<table border=\"1\" class=\"dataframe\">\n",
       "  <thead>\n",
       "    <tr style=\"text-align: right;\">\n",
       "      <th></th>\n",
       "      <th>country</th>\n",
       "      <th>customer_id</th>\n",
       "      <th>description</th>\n",
       "      <th>invoice_date</th>\n",
       "      <th>invoice_no</th>\n",
       "      <th>product_id</th>\n",
       "      <th>quantity</th>\n",
       "      <th>unit_price</th>\n",
       "      <th>num_product_purchased</th>\n",
       "      <th>product_return_rate</th>\n",
       "    </tr>\n",
       "  </thead>\n",
       "  <tbody>\n",
       "    <tr>\n",
       "      <th>0</th>\n",
       "      <td>United Kingdom</td>\n",
       "      <td>17850</td>\n",
       "      <td>WHITE HANGING HEART T-LIGHT HOLDER</td>\n",
       "      <td>12/1/2010 8:26</td>\n",
       "      <td>536365</td>\n",
       "      <td>85123A</td>\n",
       "      <td>6</td>\n",
       "      <td>2.55</td>\n",
       "      <td>27324.0</td>\n",
       "      <td>0.093874</td>\n",
       "    </tr>\n",
       "    <tr>\n",
       "      <th>1</th>\n",
       "      <td>United Kingdom</td>\n",
       "      <td>17850</td>\n",
       "      <td>WHITE METAL LANTERN</td>\n",
       "      <td>12/1/2010 8:26</td>\n",
       "      <td>536365</td>\n",
       "      <td>71053</td>\n",
       "      <td>6</td>\n",
       "      <td>3.39</td>\n",
       "      <td>1494.0</td>\n",
       "      <td>0.022758</td>\n",
       "    </tr>\n",
       "    <tr>\n",
       "      <th>2</th>\n",
       "      <td>United Kingdom</td>\n",
       "      <td>17850</td>\n",
       "      <td>SET 7 BABUSHKA NESTING BOXES</td>\n",
       "      <td>12/1/2010 8:26</td>\n",
       "      <td>536365</td>\n",
       "      <td>22752</td>\n",
       "      <td>2</td>\n",
       "      <td>7.65</td>\n",
       "      <td>1361.0</td>\n",
       "      <td>0.088905</td>\n",
       "    </tr>\n",
       "    <tr>\n",
       "      <th>3</th>\n",
       "      <td>United Kingdom</td>\n",
       "      <td>17850</td>\n",
       "      <td>GLASS STAR FROSTED T-LIGHT HOLDER</td>\n",
       "      <td>12/1/2010 8:26</td>\n",
       "      <td>536365</td>\n",
       "      <td>21730</td>\n",
       "      <td>6</td>\n",
       "      <td>4.25</td>\n",
       "      <td>439.0</td>\n",
       "      <td>0.027335</td>\n",
       "    </tr>\n",
       "    <tr>\n",
       "      <th>4</th>\n",
       "      <td>United Kingdom</td>\n",
       "      <td>17850</td>\n",
       "      <td>HAND WARMER UNION JACK</td>\n",
       "      <td>12/1/2010 8:28</td>\n",
       "      <td>536366</td>\n",
       "      <td>22633</td>\n",
       "      <td>6</td>\n",
       "      <td>1.85</td>\n",
       "      <td>3156.0</td>\n",
       "      <td>0.003169</td>\n",
       "    </tr>\n",
       "  </tbody>\n",
       "</table>\n",
       "</div>"
      ],
      "text/plain": [
       "          country  customer_id                         description  \\\n",
       "0  United Kingdom        17850  WHITE HANGING HEART T-LIGHT HOLDER   \n",
       "1  United Kingdom        17850                 WHITE METAL LANTERN   \n",
       "2  United Kingdom        17850        SET 7 BABUSHKA NESTING BOXES   \n",
       "3  United Kingdom        17850   GLASS STAR FROSTED T-LIGHT HOLDER   \n",
       "4  United Kingdom        17850              HAND WARMER UNION JACK   \n",
       "\n",
       "     invoice_date invoice_no product_id  quantity  unit_price  \\\n",
       "0  12/1/2010 8:26     536365     85123A         6        2.55   \n",
       "1  12/1/2010 8:26     536365      71053         6        3.39   \n",
       "2  12/1/2010 8:26     536365      22752         2        7.65   \n",
       "3  12/1/2010 8:26     536365      21730         6        4.25   \n",
       "4  12/1/2010 8:28     536366      22633         6        1.85   \n",
       "\n",
       "   num_product_purchased  product_return_rate  \n",
       "0                27324.0             0.093874  \n",
       "1                 1494.0             0.022758  \n",
       "2                 1361.0             0.088905  \n",
       "3                  439.0             0.027335  \n",
       "4                 3156.0             0.003169  "
      ]
     },
     "execution_count": 15,
     "metadata": {},
     "output_type": "execute_result"
    }
   ],
   "source": [
    "properties = rate_of_return()\n",
    "properties.head()"
   ]
  },
  {
   "cell_type": "markdown",
   "metadata": {},
   "source": [
    "Let's quickly see the distribution of return rates. Most seem to lie between 0 and 0.02."
   ]
  },
  {
   "cell_type": "code",
   "execution_count": 16,
   "metadata": {},
   "outputs": [
    {
     "data": {
      "text/plain": [
       "<matplotlib.text.Text at 0x25ed289a748>"
      ]
     },
     "execution_count": 16,
     "metadata": {},
     "output_type": "execute_result"
    },
    {
     "data": {
      "image/png": "[encoded data removed]",
      "text/plain": [
       "<matplotlib.figure.Figure at 0x25ed277c1d0>"
      ]
     },
     "metadata": {},
     "output_type": "display_data"
    }
   ],
   "source": [
    "# dataframe containing info on unique products\n",
    "unique_products_only = properties.drop_duplicates(subset='product_id')\n",
    "\n",
    "fig = plt.figure(figsize=(12,4))\n",
    "\n",
    "# return rate histogram\n",
    "returnfig = fig.add_subplot(121)\n",
    "unique_products_only['product_return_rate'].hist(bins=50)\n",
    "returnfig.set_xlabel(\"Return rate\", fontsize=12)\n",
    "returnfig.set_ylabel(\"Products\", fontsize=12)\n",
    "\n",
    "# return rate histogram for rates in [0,0.2]\n",
    "returnfig = fig.add_subplot(122)\n",
    "unique_products_only['product_return_rate'].hist(bins=300)\n",
    "returnfig.set_xlim(-0.01,0.2)\n",
    "returnfig.set_xlabel(\"Return rates between 0 and 0.2\", fontsize=12)"
   ]
  },
  {
   "cell_type": "markdown",
   "metadata": {},
   "source": [
    "Some of the following visualizations helped guide my initial thinking of the methodology, but the features they use were not used in the actual recommendation system. But I have kept them anyway."
   ]
  },
  {
   "cell_type": "markdown",
   "metadata": {},
   "source": [
    "### Datetime\n",
    "Let's look at some datetime trends of product interactions (an interaction here is either a purchase or return)."
   ]
  },
  {
   "cell_type": "code",
   "execution_count": 17,
   "metadata": {},
   "outputs": [
    {
     "data": {
      "text/plain": [
       "<matplotlib.text.Text at 0x25ed38dd3c8>"
      ]
     },
     "execution_count": 17,
     "metadata": {},
     "output_type": "execute_result"
    },
    {
     "data": {
      "image/png": "[encoded data removed]",
      "text/plain": [
       "<matplotlib.figure.Figure at 0x25eef0ceb70>"
      ]
     },
     "metadata": {},
     "output_type": "display_data"
    }
   ],
   "source": [
    "# split datetime into date and time columns\n",
    "properties['date'], properties['time'] = properties['invoice_date'].str.split(' ', 1).str\n",
    "\n",
    "# extract datetime properties\n",
    "time_of_day = pd.to_datetime(properties['time']).dt.time\n",
    "day_of_week = pd.to_datetime(properties['date']).dt.dayofweek\n",
    "month_of_year = pd.to_datetime(properties['date']).dt.month\n",
    "\n",
    "fig = plt.figure(figsize=(20,5))\n",
    "\n",
    "# time of day histogram\n",
    "timefig = fig.add_subplot(131)\n",
    "time_of_day.hist(bins=24, xrot=45)\n",
    "timefig.set_xlabel(\"Time of day\", fontsize=12)\n",
    "timefig.set_ylabel(\"Number of events\", fontsize=12)\n",
    "\n",
    "# day of week histogram\n",
    "dayfig = fig.add_subplot(132)\n",
    "day_of_week.hist(bins=7)\n",
    "dayfig.set_xlabel(\"Day of week\", fontsize=12)\n",
    "\n",
    "# month of year histogram\n",
    "monthfig = fig.add_subplot(133)\n",
    "month_of_year.hist(bins=12)\n",
    "monthfig.set_xlabel(\"Month of year\", fontsize=12)"
   ]
  },
  {
   "cell_type": "markdown",
   "metadata": {},
   "source": [
    "### Description\n",
    "\n",
    "A wordcloud of product descriptions."
   ]
  },
  {
   "cell_type": "code",
   "execution_count": 18,
   "metadata": {},
   "outputs": [
    {
     "data": {
      "text/plain": [
       "(-0.5, 1299.5, 865.5, -0.5)"
      ]
     },
     "execution_count": 18,
     "metadata": {},
     "output_type": "execute_result"
    },
    {
     "data": {
      "image/png": "[encoded data removed]",
      "text/plain": [
       "<matplotlib.figure.Figure at 0x25ed3560e10>"
      ]
     },
     "metadata": {},
     "output_type": "display_data"
    }
   ],
   "source": [
    "# convert product descriptions to usable strings for word cloud\n",
    "description_text = properties['description'].to_string()\n",
    "\n",
    "# set stop-words, so words like \"the\" and \"it\" are ignored\n",
    "stopwords = set(STOPWORDS)\n",
    "\n",
    "# import image and make it usable by word cloud\n",
    "bonsai = np.array(Image.open('bonsai.jpg'))\n",
    "\n",
    "fig = plt.figure(figsize=(12,12))\n",
    "\n",
    "# description cloud\n",
    "wordcloud = WordCloud(background_color='white', \n",
    "                      mask=bonsai, \n",
    "                      collocations=False, \n",
    "                      stopwords=stopwords).generate(description_text)\n",
    "plt.imshow(wordcloud, interpolation='bilinear')\n",
    "plt.axis(\"off\")"
   ]
  },
  {
   "cell_type": "markdown",
   "metadata": {},
   "source": [
    "### Country\n",
    "\n",
    "Piechart of country names."
   ]
  },
  {
   "cell_type": "code",
   "execution_count": 19,
   "metadata": {
    "scrolled": false
   },
   "outputs": [
    {
     "data": {
      "text/plain": [
       "(-1.10040935122487, 1.10001949291547, -1.105887355060017, 1.105699577743399)"
      ]
     },
     "execution_count": 19,
     "metadata": {},
     "output_type": "execute_result"
    },
    {
     "data": {
      "image/png": "[encoded data removed]",
      "text/plain": [
       "<matplotlib.figure.Figure at 0x25ed3967588>"
      ]
     },
     "metadata": {},
     "output_type": "display_data"
    }
   ],
   "source": [
    "properties.country.value_counts().plot(kind='pie', \n",
    "                                      figsize=(8,6), \n",
    "                                      fontsize=12, \n",
    "                                      autopct='%1.1f%%', \n",
    "                                      wedgeprops={'linewidth':5}\n",
    "                                      )\n",
    "plt.axis('off')\n",
    "plt.axis('equal')"
   ]
  },
  {
   "cell_type": "markdown",
   "metadata": {},
   "source": [
    "Now before moving on, let's drop the columns that will not be used from this point on."
   ]
  },
  {
   "cell_type": "code",
   "execution_count": 20,
   "metadata": {
    "collapsed": true
   },
   "outputs": [],
   "source": [
    "properties = properties.drop(['country',\n",
    "                              'description',\n",
    "                              'invoice_date',\n",
    "                              'date',\n",
    "                              'time'], axis=1)"
   ]
  },
  {
   "cell_type": "markdown",
   "metadata": {},
   "source": [
    "## 3. Popularity-based approach\n",
    "\n",
    "Let's begin the recommendation process. In this section, we'll use popularity of items to predicts ratings for each product. First we define popularity to be be function of the total number of times an item was purchased, and the rate of return of that item. Another column added that contains the number of unique items each user has bought. This will play the role of giving a weight to the popularity ratings. The reason is this: Users that have bought fewer items will have a product's popularity rating play a larger role in determining their final rating for the product. Whereas users who have bought many products will have a lower weight for the popularity rating, but a higher weight for the collaborative filtering rating. "
   ]
  },
  {
   "cell_type": "code",
   "execution_count": 21,
   "metadata": {
    "collapsed": true
   },
   "outputs": [],
   "source": [
    "def product_popularity(df=properties):\n",
    "    \n",
    "    ''' The popularity of a product is a function of the purchase count and return rate. '''\n",
    "    \n",
    "    # popularity = (number of purchases) x (1 - return rate)\n",
    "    df['popularity'] = df['product_return_rate'].apply(lambda x: 1-x) * df['num_product_purchased']\n",
    "    # rescale popularity to get rating\n",
    "    df['popularity_rating'] = (df['popularity']-df['popularity'].min()) / (df['popularity'].max()-df['popularity'].min())\n",
    "    \n",
    "    # introduce column for the number of unique products purchased by a customer\n",
    "    num_unique_products = df.groupby('customer_id')['product_id'].nunique()\n",
    "    df = df.join(num_unique_products.to_frame(name='customer_unique_products'), on='customer_id')\n",
    "        \n",
    "    df = df.drop(['popularity', 'num_product_purchased'], axis=1)\n",
    "        \n",
    "    return df   "
   ]
  },
  {
   "cell_type": "code",
   "execution_count": 22,
   "metadata": {
    "scrolled": false
   },
   "outputs": [
    {
     "data": {
      "text/html": [
       "<div>\n",
       "<style scoped>\n",
       "    .dataframe tbody tr th:only-of-type {\n",
       "        vertical-align: middle;\n",
       "    }\n",
       "\n",
       "    .dataframe tbody tr th {\n",
       "        vertical-align: top;\n",
       "    }\n",
       "\n",
       "    .dataframe thead th {\n",
       "        text-align: right;\n",
       "    }\n",
       "</style>\n",
       "<table border=\"1\" class=\"dataframe\">\n",
       "  <thead>\n",
       "    <tr style=\"text-align: right;\">\n",
       "      <th></th>\n",
       "      <th>customer_id</th>\n",
       "      <th>invoice_no</th>\n",
       "      <th>product_id</th>\n",
       "      <th>quantity</th>\n",
       "      <th>unit_price</th>\n",
       "      <th>product_return_rate</th>\n",
       "      <th>popularity_rating</th>\n",
       "      <th>customer_unique_products</th>\n",
       "    </tr>\n",
       "  </thead>\n",
       "  <tbody>\n",
       "    <tr>\n",
       "      <th>0</th>\n",
       "      <td>17850</td>\n",
       "      <td>536365</td>\n",
       "      <td>85123A</td>\n",
       "      <td>6</td>\n",
       "      <td>2.55</td>\n",
       "      <td>0.093874</td>\n",
       "      <td>0.602897</td>\n",
       "      <td>17</td>\n",
       "    </tr>\n",
       "    <tr>\n",
       "      <th>1</th>\n",
       "      <td>17850</td>\n",
       "      <td>536365</td>\n",
       "      <td>71053</td>\n",
       "      <td>6</td>\n",
       "      <td>3.39</td>\n",
       "      <td>0.022758</td>\n",
       "      <td>0.104320</td>\n",
       "      <td>17</td>\n",
       "    </tr>\n",
       "    <tr>\n",
       "      <th>2</th>\n",
       "      <td>17850</td>\n",
       "      <td>536365</td>\n",
       "      <td>22752</td>\n",
       "      <td>2</td>\n",
       "      <td>7.65</td>\n",
       "      <td>0.088905</td>\n",
       "      <td>0.099613</td>\n",
       "      <td>17</td>\n",
       "    </tr>\n",
       "    <tr>\n",
       "      <th>3</th>\n",
       "      <td>17850</td>\n",
       "      <td>536365</td>\n",
       "      <td>21730</td>\n",
       "      <td>6</td>\n",
       "      <td>4.25</td>\n",
       "      <td>0.027335</td>\n",
       "      <td>0.082215</td>\n",
       "      <td>17</td>\n",
       "    </tr>\n",
       "    <tr>\n",
       "      <th>4</th>\n",
       "      <td>17850</td>\n",
       "      <td>536366</td>\n",
       "      <td>22633</td>\n",
       "      <td>6</td>\n",
       "      <td>1.85</td>\n",
       "      <td>0.003169</td>\n",
       "      <td>0.140399</td>\n",
       "      <td>17</td>\n",
       "    </tr>\n",
       "  </tbody>\n",
       "</table>\n",
       "</div>"
      ],
      "text/plain": [
       "   customer_id invoice_no product_id  quantity  unit_price  \\\n",
       "0        17850     536365     85123A         6        2.55   \n",
       "1        17850     536365      71053         6        3.39   \n",
       "2        17850     536365      22752         2        7.65   \n",
       "3        17850     536365      21730         6        4.25   \n",
       "4        17850     536366      22633         6        1.85   \n",
       "\n",
       "   product_return_rate  popularity_rating  customer_unique_products  \n",
       "0             0.093874           0.602897                        17  \n",
       "1             0.022758           0.104320                        17  \n",
       "2             0.088905           0.099613                        17  \n",
       "3             0.027335           0.082215                        17  \n",
       "4             0.003169           0.140399                        17  "
      ]
     },
     "execution_count": 22,
     "metadata": {},
     "output_type": "execute_result"
    }
   ],
   "source": [
    "properties = product_popularity()\n",
    "properties.head()"
   ]
  },
  {
   "cell_type": "markdown",
   "metadata": {},
   "source": [
    "What does the distribution look like for the unique product count of each user?"
   ]
  },
  {
   "cell_type": "code",
   "execution_count": 23,
   "metadata": {},
   "outputs": [
    {
     "data": {
      "text/plain": [
       "<matplotlib.axes._subplots.AxesSubplot at 0x25ed34f0eb8>"
      ]
     },
     "execution_count": 23,
     "metadata": {},
     "output_type": "execute_result"
    },
    {
     "data": {
      "image/png": "[encoded data removed]",
      "text/plain": [
       "<matplotlib.figure.Figure at 0x25ed34e3470>"
      ]
     },
     "metadata": {},
     "output_type": "display_data"
    }
   ],
   "source": [
    "properties['customer_unique_products'].hist(bins=100)"
   ]
  },
  {
   "cell_type": "markdown",
   "metadata": {},
   "source": [
    "### Methodology\n",
    "\n",
    "This tells us that most users have bought around 100 unique products. Any such user (with 100 or more unique product purchases) does not need much, if any, input from a model that rates products based solely on product popularity. What we can then do is clip the \"customer_unique_products\" values to an upper threshold of 100. This means anything above 100 will be replaced with 100. To reinforce the notion that users with more than 100 unique product purchases will not be affected by the popularity-based approach, we do the following: \n",
    "* Log-scale (base 10) the unique product counts, so that the min count: $1\\: -> \\log{1} = 0$, and the max count: $100\\: -> \\log{100} = 2$.\n",
    "* Subtract each log-scaled value by its max of 2, so that min count: $0\\: -> 2$, and the max count: $2\\: -> 0$. Call this the popularity rating's weight $w_p^{ij}$ associated to product $i$ and user $j$. Higher the weight, fewer the unique products for a user.\n",
    "* Define weighted popularity rating $r_p^{ij}$ to be $r_p^{ij} = w_p^{ij} * p^i$, where $p^i$ is the popularity of product $i$. As an example, if product $m$ has a popularity (from column \"popularity_rating\") of 0.8, and a popularity weight 1.3 for user $n$ (indicating that this is a user who has bought only a few products), we get a weighted popularity rating of:\n",
    "$$r_p^{mn} = w_p^{mn} * p^m = 0.8*1.3 = 1.04.$$\n",
    "\n",
    "And here's how the ratings predicted by collaborative filtering will be accounted for:\n",
    "* For product $i$ and user $j$, let $r_c^{ij}$ be the rating predicted by collaborative filtering (computed after this section).\n",
    "* Then, final rating is a weighted average:\n",
    "\n",
    "$$R^{ij} = \\left[(2-\\text{popularity_weight})*r_c^{ij} + \\text{popularity_weight}*r_p^{ij}\\right]/2.$$\n",
    "\n",
    "As an example, consider again the product-user pair $(m,n)$. Let's say this user has a predicted rating of $r_c^{ij}=0.5$ from collaborative filtering. Since the popularity weight of this user is 1.3, their final predicted rating for the product will be:\n",
    "\n",
    "$$ R^{ij} = \\left[(2-1.3)*0.5 + 1.3*0.8\\right]/2 = 0.695.$$\n",
    "\n",
    "Which is a rating that is closer to the popularity based rating of 0.8. As a check, a weight of 1.3 means that the original log-scaled unique product count was $2-1.3=0.7$, which corresponds to the user having bought 5 unique products. So it makes sense that this user's recommended score for an item will be a bit more influenced by the popularity-based approach."
   ]
  },
  {
   "cell_type": "markdown",
   "metadata": {},
   "source": [
    "Continuing with the popularity approach, let's clip and logscale the values as previously discussed."
   ]
  },
  {
   "cell_type": "code",
   "execution_count": 24,
   "metadata": {
    "collapsed": true
   },
   "outputs": [],
   "source": [
    "def clip_and_scale_uniquecount(df=properties):\n",
    "\n",
    "    ''' Clips and scales the number of unique product purchases of each user. '''\n",
    "    \n",
    "    # clip values outside boundary to boundary values \n",
    "    df['customer_unique_products'].clip(lower=1, upper=100, inplace=True)\n",
    "    # log scale\n",
    "    df['customer_unique_products_logscale'] = df['customer_unique_products'].apply(lambda x: np.log10(x))\n",
    "    \n",
    "    # subtract values by their maximum; global variable to be used later as well\n",
    "    global logscale_max\n",
    "    logscale_max = df['customer_unique_products_logscale'].max()\n",
    "    df['popularity_weight'] = df['customer_unique_products_logscale'].apply(lambda x: logscale_max - x)\n",
    "    \n",
    "    # drop columns that won't be needed\n",
    "    df = df.drop(['customer_unique_products','customer_unique_products_logscale'], axis=1)\n",
    "    \n",
    "    return df"
   ]
  },
  {
   "cell_type": "code",
   "execution_count": 25,
   "metadata": {},
   "outputs": [
    {
     "data": {
      "text/html": [
       "<div>\n",
       "<style scoped>\n",
       "    .dataframe tbody tr th:only-of-type {\n",
       "        vertical-align: middle;\n",
       "    }\n",
       "\n",
       "    .dataframe tbody tr th {\n",
       "        vertical-align: top;\n",
       "    }\n",
       "\n",
       "    .dataframe thead th {\n",
       "        text-align: right;\n",
       "    }\n",
       "</style>\n",
       "<table border=\"1\" class=\"dataframe\">\n",
       "  <thead>\n",
       "    <tr style=\"text-align: right;\">\n",
       "      <th></th>\n",
       "      <th>customer_id</th>\n",
       "      <th>invoice_no</th>\n",
       "      <th>product_id</th>\n",
       "      <th>quantity</th>\n",
       "      <th>unit_price</th>\n",
       "      <th>product_return_rate</th>\n",
       "      <th>popularity_rating</th>\n",
       "      <th>popularity_weight</th>\n",
       "    </tr>\n",
       "  </thead>\n",
       "  <tbody>\n",
       "    <tr>\n",
       "      <th>0</th>\n",
       "      <td>17850</td>\n",
       "      <td>536365</td>\n",
       "      <td>85123A</td>\n",
       "      <td>6</td>\n",
       "      <td>2.55</td>\n",
       "      <td>0.093874</td>\n",
       "      <td>0.602897</td>\n",
       "      <td>0.769551</td>\n",
       "    </tr>\n",
       "    <tr>\n",
       "      <th>1</th>\n",
       "      <td>17850</td>\n",
       "      <td>536365</td>\n",
       "      <td>71053</td>\n",
       "      <td>6</td>\n",
       "      <td>3.39</td>\n",
       "      <td>0.022758</td>\n",
       "      <td>0.104320</td>\n",
       "      <td>0.769551</td>\n",
       "    </tr>\n",
       "    <tr>\n",
       "      <th>2</th>\n",
       "      <td>17850</td>\n",
       "      <td>536365</td>\n",
       "      <td>22752</td>\n",
       "      <td>2</td>\n",
       "      <td>7.65</td>\n",
       "      <td>0.088905</td>\n",
       "      <td>0.099613</td>\n",
       "      <td>0.769551</td>\n",
       "    </tr>\n",
       "    <tr>\n",
       "      <th>3</th>\n",
       "      <td>17850</td>\n",
       "      <td>536365</td>\n",
       "      <td>21730</td>\n",
       "      <td>6</td>\n",
       "      <td>4.25</td>\n",
       "      <td>0.027335</td>\n",
       "      <td>0.082215</td>\n",
       "      <td>0.769551</td>\n",
       "    </tr>\n",
       "    <tr>\n",
       "      <th>4</th>\n",
       "      <td>17850</td>\n",
       "      <td>536366</td>\n",
       "      <td>22633</td>\n",
       "      <td>6</td>\n",
       "      <td>1.85</td>\n",
       "      <td>0.003169</td>\n",
       "      <td>0.140399</td>\n",
       "      <td>0.769551</td>\n",
       "    </tr>\n",
       "  </tbody>\n",
       "</table>\n",
       "</div>"
      ],
      "text/plain": [
       "   customer_id invoice_no product_id  quantity  unit_price  \\\n",
       "0        17850     536365     85123A         6        2.55   \n",
       "1        17850     536365      71053         6        3.39   \n",
       "2        17850     536365      22752         2        7.65   \n",
       "3        17850     536365      21730         6        4.25   \n",
       "4        17850     536366      22633         6        1.85   \n",
       "\n",
       "   product_return_rate  popularity_rating  popularity_weight  \n",
       "0             0.093874           0.602897           0.769551  \n",
       "1             0.022758           0.104320           0.769551  \n",
       "2             0.088905           0.099613           0.769551  \n",
       "3             0.027335           0.082215           0.769551  \n",
       "4             0.003169           0.140399           0.769551  "
      ]
     },
     "execution_count": 25,
     "metadata": {},
     "output_type": "execute_result"
    }
   ],
   "source": [
    "properties = clip_and_scale_uniquecount()\n",
    "properties.head()"
   ]
  },
  {
   "cell_type": "code",
   "execution_count": 26,
   "metadata": {},
   "outputs": [
    {
     "data": {
      "text/plain": [
       "2.0"
      ]
     },
     "execution_count": 26,
     "metadata": {},
     "output_type": "execute_result"
    }
   ],
   "source": [
    "# maximum value for the logscaled unique product purchases\n",
    "logscale_max"
   ]
  },
  {
   "cell_type": "code",
   "execution_count": 27,
   "metadata": {},
   "outputs": [
    {
     "data": {
      "text/html": [
       "<div>\n",
       "<style scoped>\n",
       "    .dataframe tbody tr th:only-of-type {\n",
       "        vertical-align: middle;\n",
       "    }\n",
       "\n",
       "    .dataframe tbody tr th {\n",
       "        vertical-align: top;\n",
       "    }\n",
       "\n",
       "    .dataframe thead th {\n",
       "        text-align: right;\n",
       "    }\n",
       "</style>\n",
       "<table border=\"1\" class=\"dataframe\">\n",
       "  <thead>\n",
       "    <tr style=\"text-align: right;\">\n",
       "      <th></th>\n",
       "      <th>customer_id</th>\n",
       "      <th>popularity_weight</th>\n",
       "    </tr>\n",
       "  </thead>\n",
       "  <tbody>\n",
       "    <tr>\n",
       "      <th>0</th>\n",
       "      <td>12346</td>\n",
       "      <td>2.000000</td>\n",
       "    </tr>\n",
       "    <tr>\n",
       "      <th>1</th>\n",
       "      <td>12347</td>\n",
       "      <td>0.000000</td>\n",
       "    </tr>\n",
       "    <tr>\n",
       "      <th>2</th>\n",
       "      <td>12348</td>\n",
       "      <td>0.698970</td>\n",
       "    </tr>\n",
       "    <tr>\n",
       "      <th>3</th>\n",
       "      <td>12349</td>\n",
       "      <td>0.142668</td>\n",
       "    </tr>\n",
       "    <tr>\n",
       "      <th>4</th>\n",
       "      <td>12350</td>\n",
       "      <td>0.795880</td>\n",
       "    </tr>\n",
       "  </tbody>\n",
       "</table>\n",
       "</div>"
      ],
      "text/plain": [
       "   customer_id  popularity_weight\n",
       "0        12346           2.000000\n",
       "1        12347           0.000000\n",
       "2        12348           0.698970\n",
       "3        12349           0.142668\n",
       "4        12350           0.795880"
      ]
     },
     "execution_count": 27,
     "metadata": {},
     "output_type": "execute_result"
    }
   ],
   "source": [
    "rating_weights = properties.groupby('customer_id')['popularity_weight'].unique().reset_index()\n",
    "rating_weights['popularity_weight'] = rating_weights['popularity_weight'].astype(float)\n",
    "rating_weights.head()"
   ]
  },
  {
   "cell_type": "code",
   "execution_count": 28,
   "metadata": {},
   "outputs": [
    {
     "data": {
      "text/html": [
       "<div>\n",
       "<style scoped>\n",
       "    .dataframe tbody tr th:only-of-type {\n",
       "        vertical-align: middle;\n",
       "    }\n",
       "\n",
       "    .dataframe tbody tr th {\n",
       "        vertical-align: top;\n",
       "    }\n",
       "\n",
       "    .dataframe thead th {\n",
       "        text-align: right;\n",
       "    }\n",
       "</style>\n",
       "<table border=\"1\" class=\"dataframe\">\n",
       "  <thead>\n",
       "    <tr style=\"text-align: right;\">\n",
       "      <th></th>\n",
       "      <th>product_id</th>\n",
       "      <th>popularity_rating</th>\n",
       "    </tr>\n",
       "  </thead>\n",
       "  <tbody>\n",
       "    <tr>\n",
       "      <th>0</th>\n",
       "      <td>10002</td>\n",
       "      <td>0.090689</td>\n",
       "    </tr>\n",
       "    <tr>\n",
       "      <th>1</th>\n",
       "      <td>10080</td>\n",
       "      <td>0.079305</td>\n",
       "    </tr>\n",
       "    <tr>\n",
       "      <th>2</th>\n",
       "      <td>10120</td>\n",
       "      <td>0.077186</td>\n",
       "    </tr>\n",
       "    <tr>\n",
       "      <th>3</th>\n",
       "      <td>10123C</td>\n",
       "      <td>0.073185</td>\n",
       "    </tr>\n",
       "    <tr>\n",
       "      <th>4</th>\n",
       "      <td>10124A</td>\n",
       "      <td>0.073420</td>\n",
       "    </tr>\n",
       "  </tbody>\n",
       "</table>\n",
       "</div>"
      ],
      "text/plain": [
       "  product_id  popularity_rating\n",
       "0      10002           0.090689\n",
       "1      10080           0.079305\n",
       "2      10120           0.077186\n",
       "3     10123C           0.073185\n",
       "4     10124A           0.073420"
      ]
     },
     "execution_count": 28,
     "metadata": {},
     "output_type": "execute_result"
    }
   ],
   "source": [
    "popularity_ratings = properties.groupby('product_id')['popularity_rating'].unique().reset_index()\n",
    "popularity_ratings['popularity_rating'] = popularity_ratings['popularity_rating'].astype(float)\n",
    "popularity_ratings.head()"
   ]
  },
  {
   "cell_type": "markdown",
   "metadata": {},
   "source": [
    "Seeing as we'd like to create a matrix of user-product ratings, let's do an outer product on the above two dataframes."
   ]
  },
  {
   "cell_type": "code",
   "execution_count": 29,
   "metadata": {
    "collapsed": true
   },
   "outputs": [],
   "source": [
    "weighted_popularity_matrix = np.outer(np.array(rating_weights['popularity_weight']),\n",
    "                                      np.array(popularity_ratings['popularity_rating']))"
   ]
  },
  {
   "cell_type": "markdown",
   "metadata": {},
   "source": [
    "Check to see if the matrix shape makes sense."
   ]
  },
  {
   "cell_type": "code",
   "execution_count": 30,
   "metadata": {},
   "outputs": [
    {
     "name": "stdout",
     "output_type": "stream",
     "text": [
      "customers in dataset: 4363\n",
      "products in dataset: 3677\n",
      "shape of matrix: (4363, 3677)\n"
     ]
    }
   ],
   "source": [
    "print('customers in dataset:', properties['customer_id'].nunique())\n",
    "print('products in dataset:', properties['product_id'].nunique())\n",
    "print('shape of matrix:', weighted_popularity_matrix.shape)"
   ]
  },
  {
   "cell_type": "markdown",
   "metadata": {},
   "source": [
    "Note that a similar weighted matrix will be created for the collaborative filtering model, and an element-wise average will be taken to get the final ratings."
   ]
  },
  {
   "cell_type": "markdown",
   "metadata": {},
   "source": [
    "## 4. Collaborative filtering\n",
    "\n",
    "Create a separate dataframe that contains only those rows where customers have purchased at least 5 unique products. This data will be used for collaborative filtering."
   ]
  },
  {
   "cell_type": "code",
   "execution_count": 31,
   "metadata": {
    "collapsed": true
   },
   "outputs": [],
   "source": [
    "def interaction_threshold(df=properties, threshold=3):\n",
    "\n",
    "    ''' Creates a dataframe with users that have bought more than \"threshold\" products. '''\n",
    "\n",
    "    num_user_interactions = df.groupby(['customer_id','product_id']).size().groupby('customer_id').size()\n",
    "    print('users: %d' % len(num_user_interactions))\n",
    "    above_threshold_user_interactions = num_user_interactions[num_user_interactions >= threshold].reset_index()[['customer_id']]\n",
    "    print('users that have purchased at least', threshold, 'items: %d' % len(above_threshold_user_interactions))\n",
    "    \n",
    "    # list of users that are below threshold; global variable will be used later\n",
    "    global below_threshold_user_interactions\n",
    "    below_threshold_user_interactions = num_user_interactions[num_user_interactions < threshold].reset_index()[['customer_id']]\n",
    "    print('users that have purchased fewer than', threshold, 'items: %d' % len(below_threshold_user_interactions))\n",
    "\n",
    "    # thresholded dataframe obtained from properties dataframe\n",
    "    df_thresholded = df.merge(above_threshold_user_interactions, \n",
    "                              how='right', \n",
    "                              left_on='customer_id', \n",
    "                              right_on='customer_id')\n",
    "    print('')\n",
    "    print('products: %d' % df['product_id'].nunique())\n",
    "    print('products after threshold: %d' % df_thresholded['product_id'].nunique())\n",
    "    print('interactions: %d' % len(df))\n",
    "    print('interactions after threshold: %d' % len(df_thresholded))    \n",
    "    \n",
    "    return df_thresholded"
   ]
  },
  {
   "cell_type": "code",
   "execution_count": 32,
   "metadata": {},
   "outputs": [
    {
     "name": "stdout",
     "output_type": "stream",
     "text": [
      "users: 4363\n",
      "users that have purchased at least 3 items: 4176\n",
      "users that have purchased fewer than 3 items: 187\n",
      "\n",
      "products: 3677\n",
      "products after threshold: 3677\n",
      "interactions: 318776\n",
      "interactions after threshold: 318443\n"
     ]
    }
   ],
   "source": [
    "properties_thresh = interaction_threshold()"
   ]
  },
  {
   "cell_type": "markdown",
   "metadata": {},
   "source": [
    "187 users did not meet the cutoff. That's okay, because they will instead be recommended products based on product popularity. This means that if a user has not yet made at least 5 purchases, they will be recommended items that are just generally popular among other user. \n",
    "\n",
    "Now let's ascribe an implicit rating to each interaction equal to (a scaled version of) quantity x price. So here, a rating will just be the total amount of money a user spent on each item. The following creates a dataframe of unique user-item pairs, along with quantity x price."
   ]
  },
  {
   "cell_type": "code",
   "execution_count": 33,
   "metadata": {
    "collapsed": true
   },
   "outputs": [],
   "source": [
    "properties_thresh['total_price'] = properties_thresh['quantity'] * properties_thresh['unit_price']\n",
    "properties_thresh = properties_thresh.drop(['quantity','unit_price'], axis=1)\n",
    "customer_product_interactions = properties_thresh.groupby(['customer_id', 'product_id'])['total_price'].sum().reset_index()\n",
    "customer_product_interactions.rename(columns={'total_price':'total_user_product_price'}, inplace=True)"
   ]
  },
  {
   "cell_type": "code",
   "execution_count": 34,
   "metadata": {
    "scrolled": true
   },
   "outputs": [
    {
     "data": {
      "text/plain": [
       "count    213406.000000\n",
       "mean         30.305946\n",
       "std         147.329205\n",
       "min       -7933.430000\n",
       "25%           5.100000\n",
       "50%          13.900000\n",
       "75%          22.500000\n",
       "max       16027.920000\n",
       "Name: total_user_product_price, dtype: float64"
      ]
     },
     "execution_count": 34,
     "metadata": {},
     "output_type": "execute_result"
    }
   ],
   "source": [
    "customer_product_interactions.total_user_product_price.describe()"
   ]
  },
  {
   "cell_type": "markdown",
   "metadata": {},
   "source": [
    "There appear to be outliers. Let's clip them to boundary values and rescale to the interval [0,1]."
   ]
  },
  {
   "cell_type": "code",
   "execution_count": 35,
   "metadata": {
    "collapsed": true
   },
   "outputs": [],
   "source": [
    "def clip_and_scale_interactions(df=customer_product_interactions, num_std=0.1):\n",
    "    \n",
    "    ''' Clips and scales the rating for each user-product pair. '''\n",
    "    \n",
    "    col = 'total_user_product_price'\n",
    "    average = df[col].mean()\n",
    "    threshold = df[col].std() * num_std\n",
    "    # clip values outside boundary to boundary values\n",
    "    df[col].clip(lower=-threshold, upper=average+threshold, inplace=True)\n",
    "    # rescale between [0,1]\n",
    "    df['scaled_user_product_price'] = (df[col]-df[col].min())/(df[col].max()-df[col].min())\n",
    "    df = df.drop(col, axis=1)\n",
    "    \n",
    "    return df"
   ]
  },
  {
   "cell_type": "code",
   "execution_count": 36,
   "metadata": {},
   "outputs": [
    {
     "data": {
      "text/plain": [
       "count    213406.000000\n",
       "mean          0.526638\n",
       "std           0.231544\n",
       "min           0.000000\n",
       "25%           0.331811\n",
       "50%           0.479037\n",
       "75%           0.622918\n",
       "max           1.000000\n",
       "Name: scaled_user_product_price, dtype: float64"
      ]
     },
     "execution_count": 36,
     "metadata": {},
     "output_type": "execute_result"
    }
   ],
   "source": [
    "customer_product_interactions = clip_and_scale_interactions()\n",
    "customer_product_interactions.scaled_user_product_price.describe()"
   ]
  },
  {
   "cell_type": "markdown",
   "metadata": {},
   "source": [
    "### Surprise\n",
    "\n",
    "We use the [Surprise](http://surprise.readthedocs.io/en/stable/) library, which allows you to do collaborative filtering with a few simple lines of code. First the data is loaded in a manner required by surprise. Then the [SVD algorithm](http://surprise.readthedocs.io/en/stable/matrix_factorization.html#surprise.prediction_algorithms.matrix_factorization.SVD) is used with rmse (root mean sqaured error). A few other prediction algorithms were tried, but SVD gave the best result."
   ]
  },
  {
   "cell_type": "code",
   "execution_count": 37,
   "metadata": {
    "collapsed": true
   },
   "outputs": [],
   "source": [
    "data = s.Dataset.load_from_df(customer_product_interactions[['customer_id','product_id','scaled_user_product_price']],\n",
    "                              rating_scale=(0,1))\n",
    "trainset, testset = train_test_split(data, test_size=.2)"
   ]
  },
  {
   "cell_type": "code",
   "execution_count": 38,
   "metadata": {},
   "outputs": [
    {
     "name": "stdout",
     "output_type": "stream",
     "text": [
      "RMSE: 0.1764\n"
     ]
    },
    {
     "data": {
      "text/plain": [
       "0.17637220749026292"
      ]
     },
     "execution_count": 38,
     "metadata": {},
     "output_type": "execute_result"
    }
   ],
   "source": [
    "algo = SVD()\n",
    "algo.fit(trainset)\n",
    "predictions = algo.test(testset)\n",
    "s.accuracy.rmse(predictions)"
   ]
  },
  {
   "cell_type": "markdown",
   "metadata": {},
   "source": [
    "The predictions module stores the results of a prediction in the following format:"
   ]
  },
  {
   "cell_type": "code",
   "execution_count": 39,
   "metadata": {},
   "outputs": [
    {
     "data": {
      "text/plain": [
       "Prediction(uid=18160, iid='71459', r_ui=0.41713526755220803, est=0.5787700975533147, details={'was_impossible': False})"
      ]
     },
     "execution_count": 39,
     "metadata": {},
     "output_type": "execute_result"
    }
   ],
   "source": [
    "predictions[0]"
   ]
  },
  {
   "cell_type": "markdown",
   "metadata": {},
   "source": [
    "* uid - user id\n",
    "* iid - item id\n",
    "* r_ui - true rating\n",
    "* est - estimated rating\n",
    "* details - additional details about the prediction\n",
    "\n",
    "The next step is to get ratings for each product for all the users. Then:\n",
    "* Make a dataframe with (customers X products) rows containing unique customer-product pairs.\n",
    "* Use the above predictions module to predict all the ratings."
   ]
  },
  {
   "cell_type": "code",
   "execution_count": 40,
   "metadata": {
    "scrolled": true
   },
   "outputs": [
    {
     "name": "stdout",
     "output_type": "stream",
     "text": [
      "<class 'pandas.core.frame.DataFrame'>\n",
      "Int64Index: 15355152 entries, 0 to 15355151\n",
      "Data columns (total 3 columns):\n",
      "customer_id             int64\n",
      "product_id              object\n",
      "collabfilter_ratings    int64\n",
      "dtypes: int64(2), object(1)\n",
      "memory usage: 468.6+ MB\n",
      "None\n"
     ]
    },
    {
     "data": {
      "text/html": [
       "<div>\n",
       "<style scoped>\n",
       "    .dataframe tbody tr th:only-of-type {\n",
       "        vertical-align: middle;\n",
       "    }\n",
       "\n",
       "    .dataframe tbody tr th {\n",
       "        vertical-align: top;\n",
       "    }\n",
       "\n",
       "    .dataframe thead th {\n",
       "        text-align: right;\n",
       "    }\n",
       "</style>\n",
       "<table border=\"1\" class=\"dataframe\">\n",
       "  <thead>\n",
       "    <tr style=\"text-align: right;\">\n",
       "      <th></th>\n",
       "      <th>customer_id</th>\n",
       "      <th>product_id</th>\n",
       "      <th>collabfilter_ratings</th>\n",
       "    </tr>\n",
       "  </thead>\n",
       "  <tbody>\n",
       "    <tr>\n",
       "      <th>0</th>\n",
       "      <td>17850</td>\n",
       "      <td>85123A</td>\n",
       "      <td>0</td>\n",
       "    </tr>\n",
       "    <tr>\n",
       "      <th>1</th>\n",
       "      <td>17850</td>\n",
       "      <td>71053</td>\n",
       "      <td>0</td>\n",
       "    </tr>\n",
       "    <tr>\n",
       "      <th>2</th>\n",
       "      <td>17850</td>\n",
       "      <td>22752</td>\n",
       "      <td>0</td>\n",
       "    </tr>\n",
       "    <tr>\n",
       "      <th>3</th>\n",
       "      <td>17850</td>\n",
       "      <td>21730</td>\n",
       "      <td>0</td>\n",
       "    </tr>\n",
       "    <tr>\n",
       "      <th>4</th>\n",
       "      <td>17850</td>\n",
       "      <td>22633</td>\n",
       "      <td>0</td>\n",
       "    </tr>\n",
       "  </tbody>\n",
       "</table>\n",
       "</div>"
      ],
      "text/plain": [
       "   customer_id product_id  collabfilter_ratings\n",
       "0        17850     85123A                     0\n",
       "1        17850      71053                     0\n",
       "2        17850      22752                     0\n",
       "3        17850      21730                     0\n",
       "4        17850      22633                     0"
      ]
     },
     "execution_count": 40,
     "metadata": {},
     "output_type": "execute_result"
    }
   ],
   "source": [
    "customers_df_thresh = properties_thresh.customer_id.to_frame(name='customer_id')\n",
    "customers_df_thresh['key'] = 0\n",
    "customers_df_thresh = customers_df_thresh.drop_duplicates()\n",
    "\n",
    "products_df_thresh = properties_thresh.product_id.to_frame(name='product_id')\n",
    "products_df_thresh['key'] = 0\n",
    "products_df_thresh = products_df_thresh.drop_duplicates()\n",
    "\n",
    "# put all customer-product pairs in a dataframe\n",
    "full_customer_product_thresh = pd.merge(customers_df_thresh, products_df_thresh, on='key').drop('key', axis=1)\n",
    "full_customer_product_thresh['collabfilter_ratings'] = 0\n",
    "print(full_customer_product_thresh.info())\n",
    "full_customer_product_thresh.head()"
   ]
  },
  {
   "cell_type": "markdown",
   "metadata": {},
   "source": [
    "Next, to predict ratings for the above dataset, we load it into surprise and convert to array (after loading), and this seems to make things easier."
   ]
  },
  {
   "cell_type": "code",
   "execution_count": 41,
   "metadata": {
    "collapsed": true
   },
   "outputs": [],
   "source": [
    "data2 = s.Dataset.load_from_df(full_customer_product_thresh[['customer_id', 'product_id', 'collabfilter_ratings']],\n",
    "                              rating_scale=(0,1))\n",
    "data2 = np.array(full_customer_product_thresh)"
   ]
  },
  {
   "cell_type": "markdown",
   "metadata": {},
   "source": [
    "Due to the large size of data2 (15,355,152 rows), I will do the following:\n",
    "* Split the data into thirds\n",
    "* Separately generate predictions on each third\n",
    "* Combine into one set of predictions\n",
    "* Convert to numpy array"
   ]
  },
  {
   "cell_type": "code",
   "execution_count": 42,
   "metadata": {
    "collapsed": true
   },
   "outputs": [],
   "source": [
    "first_third_predictions = algo.test(data2[:int(15355152 * 1/3)])"
   ]
  },
  {
   "cell_type": "code",
   "execution_count": 43,
   "metadata": {
    "collapsed": true
   },
   "outputs": [],
   "source": [
    "second_third_predictions = algo.test(data2[int(15355152 * 1/3):int(15355152 * 2/3)])"
   ]
  },
  {
   "cell_type": "code",
   "execution_count": 44,
   "metadata": {
    "collapsed": true
   },
   "outputs": [],
   "source": [
    "last_third_predictions = algo.test(data2[int(15355152 * 2/3):])"
   ]
  },
  {
   "cell_type": "code",
   "execution_count": 45,
   "metadata": {},
   "outputs": [
    {
     "data": {
      "text/plain": [
       "array([17850, '85123A', 0, 0.9266235592686055, {'was_impossible': False}],\n",
       "      dtype=object)"
      ]
     },
     "execution_count": 45,
     "metadata": {},
     "output_type": "execute_result"
    }
   ],
   "source": [
    "# combining all thirds into one set of predictions\n",
    "all_collabfilter_predictions = first_third_predictions + second_third_predictions + last_third_predictions\n",
    "# converting to array for ease of use\n",
    "all_collabfilter_predictions = np.array(all_collabfilter_predictions)\n",
    "\n",
    "# sample prediction\n",
    "all_collabfilter_predictions[0]"
   ]
  },
  {
   "cell_type": "markdown",
   "metadata": {},
   "source": [
    "We only need the first, second, and fourth slices from this array (customer, product, and predicted rating)."
   ]
  },
  {
   "cell_type": "code",
   "execution_count": 46,
   "metadata": {
    "collapsed": true
   },
   "outputs": [],
   "source": [
    "customer_product_ratings_collabfilter = all_collabfilter_predictions[:,[0,1,3]]"
   ]
  },
  {
   "cell_type": "markdown",
   "metadata": {},
   "source": [
    "Recall that we have a notion of weights for ratings. Let's calculate these weights for collaborative filtering (2 - popularity_weight)."
   ]
  },
  {
   "cell_type": "code",
   "execution_count": 47,
   "metadata": {},
   "outputs": [
    {
     "data": {
      "text/html": [
       "<div>\n",
       "<style scoped>\n",
       "    .dataframe tbody tr th:only-of-type {\n",
       "        vertical-align: middle;\n",
       "    }\n",
       "\n",
       "    .dataframe tbody tr th {\n",
       "        vertical-align: top;\n",
       "    }\n",
       "\n",
       "    .dataframe thead th {\n",
       "        text-align: right;\n",
       "    }\n",
       "</style>\n",
       "<table border=\"1\" class=\"dataframe\">\n",
       "  <thead>\n",
       "    <tr style=\"text-align: right;\">\n",
       "      <th></th>\n",
       "      <th>customer_id</th>\n",
       "      <th>cf_weight</th>\n",
       "    </tr>\n",
       "  </thead>\n",
       "  <tbody>\n",
       "    <tr>\n",
       "      <th>0</th>\n",
       "      <td>12346</td>\n",
       "      <td>0.000000</td>\n",
       "    </tr>\n",
       "    <tr>\n",
       "      <th>1</th>\n",
       "      <td>12347</td>\n",
       "      <td>2.000000</td>\n",
       "    </tr>\n",
       "    <tr>\n",
       "      <th>2</th>\n",
       "      <td>12348</td>\n",
       "      <td>1.301030</td>\n",
       "    </tr>\n",
       "    <tr>\n",
       "      <th>3</th>\n",
       "      <td>12349</td>\n",
       "      <td>1.857332</td>\n",
       "    </tr>\n",
       "    <tr>\n",
       "      <th>4</th>\n",
       "      <td>12350</td>\n",
       "      <td>1.204120</td>\n",
       "    </tr>\n",
       "  </tbody>\n",
       "</table>\n",
       "</div>"
      ],
      "text/plain": [
       "   customer_id  cf_weight\n",
       "0        12346   0.000000\n",
       "1        12347   2.000000\n",
       "2        12348   1.301030\n",
       "3        12349   1.857332\n",
       "4        12350   1.204120"
      ]
     },
     "execution_count": 47,
     "metadata": {},
     "output_type": "execute_result"
    }
   ],
   "source": [
    "# rating weights for collaborative filtering\n",
    "collabfilter_weights = rating_weights\n",
    "collabfilter_weights['cf_weight'] = collabfilter_weights['popularity_weight'].apply(lambda x: logscale_max - x)\n",
    "collabfilter_weights = collabfilter_weights.drop('popularity_weight', axis=1)\n",
    "collabfilter_weights.head()"
   ]
  },
  {
   "cell_type": "markdown",
   "metadata": {},
   "source": [
    "I'll merge this dataframe of weights with the \"customer_product_ratings_collabfilter\", so that scaling the ratings (in \"customer_product_ratings_collabfilter\") can be rescaled by weights (in \"collabfilter_weights\") by simple column multiplication. "
   ]
  },
  {
   "cell_type": "code",
   "execution_count": 48,
   "metadata": {
    "collapsed": true
   },
   "outputs": [],
   "source": [
    "# convert to dataframe\n",
    "customer_product_ratings_collabfilter = pd.DataFrame(data=customer_product_ratings_collabfilter,\n",
    "                                                     columns=['customer_id','product_id','collabfilter_ratings'])"
   ]
  },
  {
   "cell_type": "markdown",
   "metadata": {},
   "source": [
    "Before proceeding, let's change the datatype of \"customer_id\" and \"collabfilter_ratings\" to int and float, respectively. This is done so that datatypes are the same for columns when merging (for instance customer_id is type int in one dataframe, but type object in the other)."
   ]
  },
  {
   "cell_type": "code",
   "execution_count": 49,
   "metadata": {
    "collapsed": true
   },
   "outputs": [],
   "source": [
    "customer_product_ratings_collabfilter['customer_id'] = customer_product_ratings_collabfilter['customer_id'].astype(int)\n",
    "customer_product_ratings_collabfilter['collabfilter_ratings'] = customer_product_ratings_collabfilter['collabfilter_ratings'].astype(float)"
   ]
  },
  {
   "cell_type": "markdown",
   "metadata": {},
   "source": [
    "Let's now merge the above with the weights data. This will then provide us with a way to scale ratings."
   ]
  },
  {
   "cell_type": "code",
   "execution_count": 50,
   "metadata": {},
   "outputs": [
    {
     "data": {
      "text/html": [
       "<div>\n",
       "<style scoped>\n",
       "    .dataframe tbody tr th:only-of-type {\n",
       "        vertical-align: middle;\n",
       "    }\n",
       "\n",
       "    .dataframe tbody tr th {\n",
       "        vertical-align: top;\n",
       "    }\n",
       "\n",
       "    .dataframe thead th {\n",
       "        text-align: right;\n",
       "    }\n",
       "</style>\n",
       "<table border=\"1\" class=\"dataframe\">\n",
       "  <thead>\n",
       "    <tr style=\"text-align: right;\">\n",
       "      <th></th>\n",
       "      <th>customer_id</th>\n",
       "      <th>product_id</th>\n",
       "      <th>collabfilter_ratings</th>\n",
       "      <th>cf_weight</th>\n",
       "    </tr>\n",
       "  </thead>\n",
       "  <tbody>\n",
       "    <tr>\n",
       "      <th>0</th>\n",
       "      <td>17850</td>\n",
       "      <td>85123A</td>\n",
       "      <td>0.926624</td>\n",
       "      <td>1.230449</td>\n",
       "    </tr>\n",
       "    <tr>\n",
       "      <th>1</th>\n",
       "      <td>17850</td>\n",
       "      <td>71053</td>\n",
       "      <td>0.814476</td>\n",
       "      <td>1.230449</td>\n",
       "    </tr>\n",
       "    <tr>\n",
       "      <th>2</th>\n",
       "      <td>17850</td>\n",
       "      <td>22752</td>\n",
       "      <td>0.882449</td>\n",
       "      <td>1.230449</td>\n",
       "    </tr>\n",
       "    <tr>\n",
       "      <th>3</th>\n",
       "      <td>17850</td>\n",
       "      <td>21730</td>\n",
       "      <td>0.767386</td>\n",
       "      <td>1.230449</td>\n",
       "    </tr>\n",
       "    <tr>\n",
       "      <th>4</th>\n",
       "      <td>17850</td>\n",
       "      <td>22633</td>\n",
       "      <td>0.747036</td>\n",
       "      <td>1.230449</td>\n",
       "    </tr>\n",
       "  </tbody>\n",
       "</table>\n",
       "</div>"
      ],
      "text/plain": [
       "   customer_id product_id  collabfilter_ratings  cf_weight\n",
       "0        17850     85123A              0.926624   1.230449\n",
       "1        17850      71053              0.814476   1.230449\n",
       "2        17850      22752              0.882449   1.230449\n",
       "3        17850      21730              0.767386   1.230449\n",
       "4        17850      22633              0.747036   1.230449"
      ]
     },
     "execution_count": 50,
     "metadata": {},
     "output_type": "execute_result"
    }
   ],
   "source": [
    "# merge ratings and weights data\n",
    "weighted_collabfilter_df = pd.merge(customer_product_ratings_collabfilter, \n",
    "                                     collabfilter_weights, \n",
    "                                     on='customer_id', \n",
    "                                     how='left')\n",
    "weighted_collabfilter_df.head()"
   ]
  },
  {
   "cell_type": "code",
   "execution_count": 51,
   "metadata": {},
   "outputs": [
    {
     "data": {
      "text/html": [
       "<div>\n",
       "<style scoped>\n",
       "    .dataframe tbody tr th:only-of-type {\n",
       "        vertical-align: middle;\n",
       "    }\n",
       "\n",
       "    .dataframe tbody tr th {\n",
       "        vertical-align: top;\n",
       "    }\n",
       "\n",
       "    .dataframe thead th {\n",
       "        text-align: right;\n",
       "    }\n",
       "</style>\n",
       "<table border=\"1\" class=\"dataframe\">\n",
       "  <thead>\n",
       "    <tr style=\"text-align: right;\">\n",
       "      <th></th>\n",
       "      <th>customer_id</th>\n",
       "      <th>product_id</th>\n",
       "      <th>weighted_cf_ratings</th>\n",
       "    </tr>\n",
       "  </thead>\n",
       "  <tbody>\n",
       "    <tr>\n",
       "      <th>0</th>\n",
       "      <td>17850</td>\n",
       "      <td>85123A</td>\n",
       "      <td>1.140163</td>\n",
       "    </tr>\n",
       "    <tr>\n",
       "      <th>1</th>\n",
       "      <td>17850</td>\n",
       "      <td>71053</td>\n",
       "      <td>1.002171</td>\n",
       "    </tr>\n",
       "    <tr>\n",
       "      <th>2</th>\n",
       "      <td>17850</td>\n",
       "      <td>22752</td>\n",
       "      <td>1.085808</td>\n",
       "    </tr>\n",
       "    <tr>\n",
       "      <th>3</th>\n",
       "      <td>17850</td>\n",
       "      <td>21730</td>\n",
       "      <td>0.944230</td>\n",
       "    </tr>\n",
       "    <tr>\n",
       "      <th>4</th>\n",
       "      <td>17850</td>\n",
       "      <td>22633</td>\n",
       "      <td>0.919190</td>\n",
       "    </tr>\n",
       "  </tbody>\n",
       "</table>\n",
       "</div>"
      ],
      "text/plain": [
       "   customer_id product_id  weighted_cf_ratings\n",
       "0        17850     85123A             1.140163\n",
       "1        17850      71053             1.002171\n",
       "2        17850      22752             1.085808\n",
       "3        17850      21730             0.944230\n",
       "4        17850      22633             0.919190"
      ]
     },
     "execution_count": 51,
     "metadata": {},
     "output_type": "execute_result"
    }
   ],
   "source": [
    "# scale ratings by weights\n",
    "weighted_collabfilter_df['weighted_cf_ratings'] = weighted_collabfilter_df['collabfilter_ratings'] * weighted_collabfilter_df['cf_weight']\n",
    "weighted_collabfilter_df = weighted_collabfilter_df.drop(['collabfilter_ratings','cf_weight'], axis=1)\n",
    "weighted_collabfilter_df.head()"
   ]
  },
  {
   "cell_type": "markdown",
   "metadata": {
    "collapsed": true
   },
   "source": [
    "At this stage, we have a dataframe comtaining the weighted rating predictions for each user-product pair. Or rather for each user that wasn't discarded when we introduced the threshold for minumum unique products. In order to get a complete recommendation list that includes all user-product pairs, let's now create a similar dataframe containing only those 187 users that were below threshold. Recall the global variable \"below_threshold_user_interactions\". This contains all such users. Let's merge this with the original properties dataframe and use the process from before to generate user-product pairs."
   ]
  },
  {
   "cell_type": "code",
   "execution_count": 52,
   "metadata": {},
   "outputs": [
    {
     "name": "stdout",
     "output_type": "stream",
     "text": [
      "<class 'pandas.core.frame.DataFrame'>\n",
      "Int64Index: 687599 entries, 0 to 687598\n",
      "Data columns (total 3 columns):\n",
      "customer_id            687599 non-null int64\n",
      "product_id             687599 non-null object\n",
      "weighted_cf_ratings    687599 non-null int64\n",
      "dtypes: int64(2), object(1)\n",
      "memory usage: 21.0+ MB\n",
      "None\n"
     ]
    },
    {
     "data": {
      "text/html": [
       "<div>\n",
       "<style scoped>\n",
       "    .dataframe tbody tr th:only-of-type {\n",
       "        vertical-align: middle;\n",
       "    }\n",
       "\n",
       "    .dataframe tbody tr th {\n",
       "        vertical-align: top;\n",
       "    }\n",
       "\n",
       "    .dataframe thead th {\n",
       "        text-align: right;\n",
       "    }\n",
       "</style>\n",
       "<table border=\"1\" class=\"dataframe\">\n",
       "  <thead>\n",
       "    <tr style=\"text-align: right;\">\n",
       "      <th></th>\n",
       "      <th>customer_id</th>\n",
       "      <th>product_id</th>\n",
       "      <th>weighted_cf_ratings</th>\n",
       "    </tr>\n",
       "  </thead>\n",
       "  <tbody>\n",
       "    <tr>\n",
       "      <th>0</th>\n",
       "      <td>15100</td>\n",
       "      <td>85123A</td>\n",
       "      <td>0</td>\n",
       "    </tr>\n",
       "    <tr>\n",
       "      <th>1</th>\n",
       "      <td>15100</td>\n",
       "      <td>71053</td>\n",
       "      <td>0</td>\n",
       "    </tr>\n",
       "    <tr>\n",
       "      <th>2</th>\n",
       "      <td>15100</td>\n",
       "      <td>22752</td>\n",
       "      <td>0</td>\n",
       "    </tr>\n",
       "    <tr>\n",
       "      <th>3</th>\n",
       "      <td>15100</td>\n",
       "      <td>21730</td>\n",
       "      <td>0</td>\n",
       "    </tr>\n",
       "    <tr>\n",
       "      <th>4</th>\n",
       "      <td>15100</td>\n",
       "      <td>22633</td>\n",
       "      <td>0</td>\n",
       "    </tr>\n",
       "  </tbody>\n",
       "</table>\n",
       "</div>"
      ],
      "text/plain": [
       "   customer_id product_id  weighted_cf_ratings\n",
       "0        15100     85123A                    0\n",
       "1        15100      71053                    0\n",
       "2        15100      22752                    0\n",
       "3        15100      21730                    0\n",
       "4        15100      22633                    0"
      ]
     },
     "execution_count": 52,
     "metadata": {},
     "output_type": "execute_result"
    }
   ],
   "source": [
    "# dataframe containing only those rows where users are below threshold of unique product interactions\n",
    "properties_below_thresh = pd.merge(properties, \n",
    "                                   below_threshold_user_interactions, \n",
    "                                   on='customer_id')\n",
    "\n",
    "customers_df_below_thresh = properties_below_thresh.customer_id.to_frame(name='customer_id')\n",
    "customers_df_below_thresh['key'] = 0\n",
    "customers_df_below_thresh = customers_df_below_thresh.drop_duplicates()\n",
    "\n",
    "# put all customer-product pairs in a dataframe (below threshold customers only, but using all products)\n",
    "full_customer_product_below_thresh = pd.merge(customers_df_below_thresh, \n",
    "                                            products_df_thresh, # all products\n",
    "                                            on='key').drop('key', axis=1)\n",
    "# naming the column the same as the previous dataframe so that we can easily append it there\n",
    "full_customer_product_below_thresh['weighted_cf_ratings'] = 0\n",
    "\n",
    "print(full_customer_product_below_thresh.info())\n",
    "full_customer_product_below_thresh.head()"
   ]
  },
  {
   "cell_type": "markdown",
   "metadata": {},
   "source": [
    "Finally to get all user-product pairs and their collaborative filtering ratings, we append this below-threshold dataframe to the other."
   ]
  },
  {
   "cell_type": "code",
   "execution_count": 53,
   "metadata": {
    "collapsed": true
   },
   "outputs": [],
   "source": [
    "weighted_collabfilter_df = weighted_collabfilter_df.append(full_customer_product_below_thresh, sort=False)\n",
    "\n",
    "# sort first by customer_id then by product_id to ensure correct ordering of ratings\n",
    "weighted_collabfilter_df = weighted_collabfilter_df.sort_values(by=['customer_id','product_id'])"
   ]
  },
  {
   "cell_type": "markdown",
   "metadata": {},
   "source": [
    "Now we generate a similar MxN matrix of ratings to the one in the previous section (popularity ratings). We will add these two matrices element-wise and take an average. Then we save it as a csv file."
   ]
  },
  {
   "cell_type": "code",
   "execution_count": 54,
   "metadata": {
    "collapsed": true
   },
   "outputs": [],
   "source": [
    "# unique products and customers in original dataset\n",
    "M = properties.customer_id.nunique()\n",
    "N = properties.product_id.nunique()\n",
    "\n",
    "# weighted matrix of ratings determined by collaborative filtering\n",
    "weighted_collabfilter_matrix = np.array(weighted_collabfilter_df.weighted_cf_ratings)\n",
    "weighted_collabfilter_matrix = weighted_collabfilter_matrix.reshape(M,N)\n",
    "\n",
    "# final ratings are a weighted average\n",
    "final_ratings = 0.5*np.add(weighted_collabfilter_matrix,weighted_popularity_matrix)\n",
    "# converting the array first to a pandas dataframe seems to reduce filesize\n",
    "final_ratings = pd.DataFrame(data=final_ratings)\n",
    "\n",
    "# save\n",
    "final_ratings.to_csv('ratings.csv')"
   ]
  },
  {
   "cell_type": "markdown",
   "metadata": {},
   "source": [
    "## 5. Conclusion\n",
    "\n",
    "One of the things I would like to try, given more time, is use the product description column. For the popularity-based approach, this would come in the form of generating feature vectors using TF-IDF and compute similarity between the descriptions. A notion of user profile would be needed for all products bought/returned by the user. These profiles would use the TF-IDF vectors for each product that user has interacted with. When trying this very approach, I ran into a huge time constraint. Creating all profiles would take over a day on my computer so I decided against using it, and went with implicit ratings based on the popularity score I defined earlier. Given more time I would determine an efficitent way to include product descriptions in the popularity-based approach, as that would likely give a closer rating. "
   ]
  }
 ],
 "metadata": {
  "kernelspec": {
   "display_name": "Python 3",
   "language": "python",
   "name": "python3"
  },
  "language_info": {
   "codemirror_mode": {
    "name": "ipython",
    "version": 3
   },
   "file_extension": ".py",
   "mimetype": "text/x-python",
   "name": "python",
   "nbconvert_exporter": "python",
   "pygments_lexer": "ipython3",
   "version": "3.5.2"
  }
 },
 "nbformat": 4,
 "nbformat_minor": 2
}
