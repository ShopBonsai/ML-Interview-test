{
 "cells": [
  {
   "cell_type": "code",
   "execution_count": 1,
   "metadata": {},
   "outputs": [],
   "source": [
    "from sklearn.feature_extraction.text import CountVectorizer\n",
    "from scipy.sparse import hstack\n",
    "from scipy.sparse import vstack\n",
    "from scipy import interp\n",
    "from tqdm import tqdm\n",
    "from sklearn.metrics import roc_curve, auc\n",
    "\n",
    "import pandas as pd\n",
    "import matplotlib.pyplot as plt\n",
    "import json\n",
    "import numpy as np\n",
    "import os\n",
    "\n",
    "#Loading data\n",
    "books = pd.read_csv(os.path.join(\"book-recommend-data\", \"Books.csv\"), sep=',', header=0, encoding=\"latin1\")\n",
    "users = pd.read_csv(os.path.join(\"book-recommend-data\", \"Users.csv\"), sep=',', header=0, encoding=\"latin1\")\n",
    "user_events = pd.read_csv(os.path.join(\"book-recommend-data\", \"UserEvents.csv\"), sep=',', header=0, encoding=\"latin1\")"
   ]
  },
  {
   "cell_type": "code",
   "execution_count": 2,
   "metadata": {},
   "outputs": [],
   "source": [
    "#Setting random seeds\n",
    "seed = 0\n",
    "np.random.seed(seed)"
   ]
  },
  {
   "cell_type": "code",
   "execution_count": 3,
   "metadata": {},
   "outputs": [
    {
     "data": {
      "text/html": [
       "<div>\n",
       "<style scoped>\n",
       "    .dataframe tbody tr th:only-of-type {\n",
       "        vertical-align: middle;\n",
       "    }\n",
       "\n",
       "    .dataframe tbody tr th {\n",
       "        vertical-align: top;\n",
       "    }\n",
       "\n",
       "    .dataframe thead th {\n",
       "        text-align: right;\n",
       "    }\n",
       "</style>\n",
       "<table border=\"1\" class=\"dataframe\">\n",
       "  <thead>\n",
       "    <tr style=\"text-align: right;\">\n",
       "      <th></th>\n",
       "      <th>Unnamed: 0</th>\n",
       "      <th>Unnamed: 0.1</th>\n",
       "      <th>user</th>\n",
       "      <th>location</th>\n",
       "      <th>age</th>\n",
       "    </tr>\n",
       "  </thead>\n",
       "  <tbody>\n",
       "    <tr>\n",
       "      <th>0</th>\n",
       "      <td>57300</td>\n",
       "      <td>43156</td>\n",
       "      <td>43157.0</td>\n",
       "      <td>windsor, ontario, canada</td>\n",
       "      <td>22.0</td>\n",
       "    </tr>\n",
       "    <tr>\n",
       "      <th>1</th>\n",
       "      <td>40638</td>\n",
       "      <td>99031</td>\n",
       "      <td>99032.0</td>\n",
       "      <td>white plains, new york, usa</td>\n",
       "      <td>25.0</td>\n",
       "    </tr>\n",
       "    <tr>\n",
       "      <th>2</th>\n",
       "      <td>54265</td>\n",
       "      <td>42882</td>\n",
       "      <td>42883.0</td>\n",
       "      <td>the woodlands, texas, usa</td>\n",
       "      <td>51.0</td>\n",
       "    </tr>\n",
       "    <tr>\n",
       "      <th>3</th>\n",
       "      <td>83797</td>\n",
       "      <td>183799</td>\n",
       "      <td>183800.0</td>\n",
       "      <td>quebec, quebec, canada</td>\n",
       "      <td>29.0</td>\n",
       "    </tr>\n",
       "    <tr>\n",
       "      <th>4</th>\n",
       "      <td>96743</td>\n",
       "      <td>188795</td>\n",
       "      <td>188796.0</td>\n",
       "      <td>toronto, ontario, canada</td>\n",
       "      <td>NaN</td>\n",
       "    </tr>\n",
       "  </tbody>\n",
       "</table>\n",
       "</div>"
      ],
      "text/plain": [
       "   Unnamed: 0  Unnamed: 0.1      user                     location   age\n",
       "0       57300         43156   43157.0     windsor, ontario, canada  22.0\n",
       "1       40638         99031   99032.0  white plains, new york, usa  25.0\n",
       "2       54265         42882   42883.0    the woodlands, texas, usa  51.0\n",
       "3       83797        183799  183800.0       quebec, quebec, canada  29.0\n",
       "4       96743        188795  188796.0     toronto, ontario, canada   NaN"
      ]
     },
     "execution_count": 3,
     "metadata": {},
     "output_type": "execute_result"
    }
   ],
   "source": [
    "#Looking at the User's data\n",
    "users.head()"
   ]
  },
  {
   "cell_type": "code",
   "execution_count": 4,
   "metadata": {},
   "outputs": [
    {
     "data": {
      "text/html": [
       "<div>\n",
       "<style scoped>\n",
       "    .dataframe tbody tr th:only-of-type {\n",
       "        vertical-align: middle;\n",
       "    }\n",
       "\n",
       "    .dataframe tbody tr th {\n",
       "        vertical-align: top;\n",
       "    }\n",
       "\n",
       "    .dataframe thead th {\n",
       "        text-align: right;\n",
       "    }\n",
       "</style>\n",
       "<table border=\"1\" class=\"dataframe\">\n",
       "  <thead>\n",
       "    <tr style=\"text-align: right;\">\n",
       "      <th></th>\n",
       "      <th>Unnamed: 0</th>\n",
       "      <th>Unnamed: 0.1</th>\n",
       "      <th>bookISBN</th>\n",
       "      <th>bookName</th>\n",
       "      <th>author</th>\n",
       "      <th>yearOfPublication</th>\n",
       "      <th>publisher</th>\n",
       "      <th>urlId</th>\n",
       "    </tr>\n",
       "  </thead>\n",
       "  <tbody>\n",
       "    <tr>\n",
       "      <th>0</th>\n",
       "      <td>62044</td>\n",
       "      <td>26575</td>\n",
       "      <td>1551669382</td>\n",
       "      <td>Enchanted Afternoon</td>\n",
       "      <td>Susan Wiggs</td>\n",
       "      <td>2002</td>\n",
       "      <td>Mira</td>\n",
       "      <td>120656.0</td>\n",
       "    </tr>\n",
       "    <tr>\n",
       "      <th>1</th>\n",
       "      <td>85751</td>\n",
       "      <td>1995</td>\n",
       "      <td>0743202961</td>\n",
       "      <td>Every Breath You Take : A True Story of Obsess...</td>\n",
       "      <td>Ann Rule</td>\n",
       "      <td>2001</td>\n",
       "      <td>Free Press</td>\n",
       "      <td>116803.0</td>\n",
       "    </tr>\n",
       "    <tr>\n",
       "      <th>2</th>\n",
       "      <td>122688</td>\n",
       "      <td>7677</td>\n",
       "      <td>067151699X</td>\n",
       "      <td>The HIDDEN LIFE OF DOGS</td>\n",
       "      <td>Elizabeth Marshall Thomas</td>\n",
       "      <td>1995</td>\n",
       "      <td>Pocket</td>\n",
       "      <td>1805.0</td>\n",
       "    </tr>\n",
       "    <tr>\n",
       "      <th>3</th>\n",
       "      <td>87360</td>\n",
       "      <td>36120</td>\n",
       "      <td>0804108528</td>\n",
       "      <td>Inadmissible Evidence</td>\n",
       "      <td>Philip Friedman</td>\n",
       "      <td>1993</td>\n",
       "      <td>Ivy Books</td>\n",
       "      <td>139375.0</td>\n",
       "    </tr>\n",
       "    <tr>\n",
       "      <th>4</th>\n",
       "      <td>73712</td>\n",
       "      <td>30238</td>\n",
       "      <td>0061094145</td>\n",
       "      <td>The Fifth Dominion (Imajica, Book 1)</td>\n",
       "      <td>Clive Barker</td>\n",
       "      <td>1995</td>\n",
       "      <td>HarperTorch</td>\n",
       "      <td>141585.0</td>\n",
       "    </tr>\n",
       "  </tbody>\n",
       "</table>\n",
       "</div>"
      ],
      "text/plain": [
       "   Unnamed: 0  Unnamed: 0.1    bookISBN  \\\n",
       "0       62044         26575  1551669382   \n",
       "1       85751          1995  0743202961   \n",
       "2      122688          7677  067151699X   \n",
       "3       87360         36120  0804108528   \n",
       "4       73712         30238  0061094145   \n",
       "\n",
       "                                            bookName  \\\n",
       "0                                Enchanted Afternoon   \n",
       "1  Every Breath You Take : A True Story of Obsess...   \n",
       "2                            The HIDDEN LIFE OF DOGS   \n",
       "3                              Inadmissible Evidence   \n",
       "4               The Fifth Dominion (Imajica, Book 1)   \n",
       "\n",
       "                      author  yearOfPublication    publisher     urlId  \n",
       "0                Susan Wiggs               2002         Mira  120656.0  \n",
       "1                   Ann Rule               2001   Free Press  116803.0  \n",
       "2  Elizabeth Marshall Thomas               1995       Pocket    1805.0  \n",
       "3            Philip Friedman               1993    Ivy Books  139375.0  \n",
       "4               Clive Barker               1995  HarperTorch  141585.0  "
      ]
     },
     "execution_count": 4,
     "metadata": {},
     "output_type": "execute_result"
    }
   ],
   "source": [
    "#Looking at the Book's data\n",
    "books.head()"
   ]
  },
  {
   "cell_type": "code",
   "execution_count": 5,
   "metadata": {},
   "outputs": [
    {
     "data": {
      "text/html": [
       "<div>\n",
       "<style scoped>\n",
       "    .dataframe tbody tr th:only-of-type {\n",
       "        vertical-align: middle;\n",
       "    }\n",
       "\n",
       "    .dataframe tbody tr th {\n",
       "        vertical-align: top;\n",
       "    }\n",
       "\n",
       "    .dataframe thead th {\n",
       "        text-align: right;\n",
       "    }\n",
       "</style>\n",
       "<table border=\"1\" class=\"dataframe\">\n",
       "  <thead>\n",
       "    <tr style=\"text-align: right;\">\n",
       "      <th></th>\n",
       "      <th>Unnamed: 0</th>\n",
       "      <th>user</th>\n",
       "      <th>bookId</th>\n",
       "      <th>impression</th>\n",
       "    </tr>\n",
       "  </thead>\n",
       "  <tbody>\n",
       "    <tr>\n",
       "      <th>0</th>\n",
       "      <td>16</td>\n",
       "      <td>276747</td>\n",
       "      <td>0060517794</td>\n",
       "      <td>checkout</td>\n",
       "    </tr>\n",
       "    <tr>\n",
       "      <th>1</th>\n",
       "      <td>19</td>\n",
       "      <td>276747</td>\n",
       "      <td>0671537458</td>\n",
       "      <td>checkout</td>\n",
       "    </tr>\n",
       "    <tr>\n",
       "      <th>2</th>\n",
       "      <td>20</td>\n",
       "      <td>276747</td>\n",
       "      <td>0679776818</td>\n",
       "      <td>add to cart</td>\n",
       "    </tr>\n",
       "    <tr>\n",
       "      <th>3</th>\n",
       "      <td>133</td>\n",
       "      <td>276822</td>\n",
       "      <td>0060096195</td>\n",
       "      <td>checkout</td>\n",
       "    </tr>\n",
       "    <tr>\n",
       "      <th>4</th>\n",
       "      <td>137</td>\n",
       "      <td>276822</td>\n",
       "      <td>0375821813</td>\n",
       "      <td>checkout</td>\n",
       "    </tr>\n",
       "  </tbody>\n",
       "</table>\n",
       "</div>"
      ],
      "text/plain": [
       "   Unnamed: 0    user      bookId   impression\n",
       "0          16  276747  0060517794     checkout\n",
       "1          19  276747  0671537458     checkout\n",
       "2          20  276747  0679776818  add to cart\n",
       "3         133  276822  0060096195     checkout\n",
       "4         137  276822  0375821813     checkout"
      ]
     },
     "execution_count": 5,
     "metadata": {},
     "output_type": "execute_result"
    }
   ],
   "source": [
    "#Looking at the User event's data\n",
    "user_events.head()"
   ]
  },
  {
   "cell_type": "code",
   "execution_count": 6,
   "metadata": {},
   "outputs": [
    {
     "name": "stdout",
     "output_type": "stream",
     "text": [
      "Books\n",
      "Column Unnamed: 0 has nan False | type int64\n",
      "Column Unnamed: 0.1 has nan False | type int64\n",
      "Column bookISBN has nan False | type object\n",
      "Column bookName has nan False | type object\n",
      "Column author has nan True | type object\n",
      "Column yearOfPublication has nan False | type int64\n",
      "Column publisher has nan False | type object\n",
      "Column urlId has nan True | type float64\n",
      "---------------\n",
      "Users\n",
      "Column Unnamed: 0 has nan False | type int64\n",
      "Column Unnamed: 0.1 has nan False | type int64\n",
      "Column user has nan False | type float64\n",
      "Column location has nan True | type object\n",
      "Column age has nan True | type float64\n",
      "---------------\n",
      "User events\n",
      "Column Unnamed: 0 has nan False | type int64\n",
      "Column user has nan False | type int64\n",
      "Column bookId has nan False | type object\n",
      "Column impression has nan False | type object\n"
     ]
    }
   ],
   "source": [
    "#Check for NaN and the type of the columns in the resulting DataFrames\n",
    "print('Books')\n",
    "for column in books.columns:\n",
    "    print('Column', column, \n",
    "          'has nan', books[column].isnull().values.any(),\n",
    "          '| type', books[column].dtype)\n",
    "print('---------------')\n",
    "print('Users')\n",
    "for column in users.columns:\n",
    "    print('Column', column, \n",
    "          'has nan', users[column].isnull().values.any(),\n",
    "          '| type', users[column].dtype)\n",
    "print('---------------')\n",
    "print('User events')\n",
    "for column in user_events.columns:\n",
    "    print('Column', column, \n",
    "          'has nan', user_events[column].isnull().values.any(),\n",
    "          '| type', user_events[column].dtype)"
   ]
  },
  {
   "cell_type": "code",
   "execution_count": 7,
   "metadata": {},
   "outputs": [],
   "source": [
    "#It seens that the user field in the User's dataframe was interpreted as a float value.\n",
    "#The location field can also have some Null values. The same can happen to the field age\n",
    "#Here a field age_defined will be created to indicate that the age is not defined for an user\n",
    "\n",
    "users['user'] = users['user'].apply(lambda x: str(x).split('.')[0])\n",
    "users['location'].fillna('', inplace=True)\n",
    "users['location'] = users['location'].apply(lambda x: x.replace(',', ''))\n",
    "users['age'] = users['age'].astype(float)\n",
    "users['age'].fillna(0.0, inplace=True)\n",
    "users['age_defined'] = ~(users['age'] == 0.0)\n",
    "users.drop(['Unnamed: 0', 'Unnamed: 0.1'], axis=1, inplace=True)"
   ]
  },
  {
   "cell_type": "code",
   "execution_count": 8,
   "metadata": {},
   "outputs": [
    {
     "data": {
      "text/html": [
       "<div>\n",
       "<style scoped>\n",
       "    .dataframe tbody tr th:only-of-type {\n",
       "        vertical-align: middle;\n",
       "    }\n",
       "\n",
       "    .dataframe tbody tr th {\n",
       "        vertical-align: top;\n",
       "    }\n",
       "\n",
       "    .dataframe thead th {\n",
       "        text-align: right;\n",
       "    }\n",
       "</style>\n",
       "<table border=\"1\" class=\"dataframe\">\n",
       "  <thead>\n",
       "    <tr style=\"text-align: right;\">\n",
       "      <th></th>\n",
       "      <th>user</th>\n",
       "      <th>location</th>\n",
       "      <th>age</th>\n",
       "      <th>age_defined</th>\n",
       "    </tr>\n",
       "  </thead>\n",
       "  <tbody>\n",
       "    <tr>\n",
       "      <th>0</th>\n",
       "      <td>43157</td>\n",
       "      <td>windsor ontario canada</td>\n",
       "      <td>22.0</td>\n",
       "      <td>True</td>\n",
       "    </tr>\n",
       "    <tr>\n",
       "      <th>1</th>\n",
       "      <td>99032</td>\n",
       "      <td>white plains new york usa</td>\n",
       "      <td>25.0</td>\n",
       "      <td>True</td>\n",
       "    </tr>\n",
       "    <tr>\n",
       "      <th>2</th>\n",
       "      <td>42883</td>\n",
       "      <td>the woodlands texas usa</td>\n",
       "      <td>51.0</td>\n",
       "      <td>True</td>\n",
       "    </tr>\n",
       "    <tr>\n",
       "      <th>3</th>\n",
       "      <td>183800</td>\n",
       "      <td>quebec quebec canada</td>\n",
       "      <td>29.0</td>\n",
       "      <td>True</td>\n",
       "    </tr>\n",
       "    <tr>\n",
       "      <th>4</th>\n",
       "      <td>188796</td>\n",
       "      <td>toronto ontario canada</td>\n",
       "      <td>0.0</td>\n",
       "      <td>False</td>\n",
       "    </tr>\n",
       "  </tbody>\n",
       "</table>\n",
       "</div>"
      ],
      "text/plain": [
       "     user                   location   age  age_defined\n",
       "0   43157     windsor ontario canada  22.0         True\n",
       "1   99032  white plains new york usa  25.0         True\n",
       "2   42883    the woodlands texas usa  51.0         True\n",
       "3  183800       quebec quebec canada  29.0         True\n",
       "4  188796     toronto ontario canada   0.0        False"
      ]
     },
     "execution_count": 8,
     "metadata": {},
     "output_type": "execute_result"
    }
   ],
   "source": [
    "#Looking at the result\n",
    "users.head()"
   ]
  },
  {
   "cell_type": "code",
   "execution_count": 9,
   "metadata": {},
   "outputs": [],
   "source": [
    "#Removing unused fields from the Book's dataframe\n",
    "books['author'].fillna('', inplace=True)\n",
    "books.drop(['urlId', 'Unnamed: 0', 'Unnamed: 0.1'], axis=1, inplace=True) #We are not using the urlid field"
   ]
  },
  {
   "cell_type": "code",
   "execution_count": 10,
   "metadata": {},
   "outputs": [
    {
     "data": {
      "text/html": [
       "<div>\n",
       "<style scoped>\n",
       "    .dataframe tbody tr th:only-of-type {\n",
       "        vertical-align: middle;\n",
       "    }\n",
       "\n",
       "    .dataframe tbody tr th {\n",
       "        vertical-align: top;\n",
       "    }\n",
       "\n",
       "    .dataframe thead th {\n",
       "        text-align: right;\n",
       "    }\n",
       "</style>\n",
       "<table border=\"1\" class=\"dataframe\">\n",
       "  <thead>\n",
       "    <tr style=\"text-align: right;\">\n",
       "      <th></th>\n",
       "      <th>bookISBN</th>\n",
       "      <th>bookName</th>\n",
       "      <th>author</th>\n",
       "      <th>yearOfPublication</th>\n",
       "      <th>publisher</th>\n",
       "    </tr>\n",
       "  </thead>\n",
       "  <tbody>\n",
       "    <tr>\n",
       "      <th>0</th>\n",
       "      <td>1551669382</td>\n",
       "      <td>Enchanted Afternoon</td>\n",
       "      <td>Susan Wiggs</td>\n",
       "      <td>2002</td>\n",
       "      <td>Mira</td>\n",
       "    </tr>\n",
       "    <tr>\n",
       "      <th>1</th>\n",
       "      <td>0743202961</td>\n",
       "      <td>Every Breath You Take : A True Story of Obsess...</td>\n",
       "      <td>Ann Rule</td>\n",
       "      <td>2001</td>\n",
       "      <td>Free Press</td>\n",
       "    </tr>\n",
       "    <tr>\n",
       "      <th>2</th>\n",
       "      <td>067151699X</td>\n",
       "      <td>The HIDDEN LIFE OF DOGS</td>\n",
       "      <td>Elizabeth Marshall Thomas</td>\n",
       "      <td>1995</td>\n",
       "      <td>Pocket</td>\n",
       "    </tr>\n",
       "    <tr>\n",
       "      <th>3</th>\n",
       "      <td>0804108528</td>\n",
       "      <td>Inadmissible Evidence</td>\n",
       "      <td>Philip Friedman</td>\n",
       "      <td>1993</td>\n",
       "      <td>Ivy Books</td>\n",
       "    </tr>\n",
       "    <tr>\n",
       "      <th>4</th>\n",
       "      <td>0061094145</td>\n",
       "      <td>The Fifth Dominion (Imajica, Book 1)</td>\n",
       "      <td>Clive Barker</td>\n",
       "      <td>1995</td>\n",
       "      <td>HarperTorch</td>\n",
       "    </tr>\n",
       "  </tbody>\n",
       "</table>\n",
       "</div>"
      ],
      "text/plain": [
       "     bookISBN                                           bookName  \\\n",
       "0  1551669382                                Enchanted Afternoon   \n",
       "1  0743202961  Every Breath You Take : A True Story of Obsess...   \n",
       "2  067151699X                            The HIDDEN LIFE OF DOGS   \n",
       "3  0804108528                              Inadmissible Evidence   \n",
       "4  0061094145               The Fifth Dominion (Imajica, Book 1)   \n",
       "\n",
       "                      author  yearOfPublication    publisher  \n",
       "0                Susan Wiggs               2002         Mira  \n",
       "1                   Ann Rule               2001   Free Press  \n",
       "2  Elizabeth Marshall Thomas               1995       Pocket  \n",
       "3            Philip Friedman               1993    Ivy Books  \n",
       "4               Clive Barker               1995  HarperTorch  "
      ]
     },
     "execution_count": 10,
     "metadata": {},
     "output_type": "execute_result"
    }
   ],
   "source": [
    "#Looking at the result\n",
    "books.head()"
   ]
  },
  {
   "cell_type": "code",
   "execution_count": 11,
   "metadata": {},
   "outputs": [],
   "source": [
    "#The field Unnamed: 0 is assumed to be larger for interactions that happened later\n",
    "#We need this field so we can select interactions that happened before a checkout. So we will rename this field to\n",
    "#order\n",
    "#We will also assert that the user field is a string\n",
    "user_events.rename(index=str, columns={'Unnamed: 0': 'order'}, inplace=True)\n",
    "user_events['user'] = user_events['user'].astype(str)"
   ]
  },
  {
   "cell_type": "code",
   "execution_count": 12,
   "metadata": {},
   "outputs": [
    {
     "data": {
      "text/html": [
       "<div>\n",
       "<style scoped>\n",
       "    .dataframe tbody tr th:only-of-type {\n",
       "        vertical-align: middle;\n",
       "    }\n",
       "\n",
       "    .dataframe tbody tr th {\n",
       "        vertical-align: top;\n",
       "    }\n",
       "\n",
       "    .dataframe thead th {\n",
       "        text-align: right;\n",
       "    }\n",
       "</style>\n",
       "<table border=\"1\" class=\"dataframe\">\n",
       "  <thead>\n",
       "    <tr style=\"text-align: right;\">\n",
       "      <th></th>\n",
       "      <th>order</th>\n",
       "      <th>user</th>\n",
       "      <th>bookId</th>\n",
       "      <th>impression</th>\n",
       "    </tr>\n",
       "  </thead>\n",
       "  <tbody>\n",
       "    <tr>\n",
       "      <th>0</th>\n",
       "      <td>16</td>\n",
       "      <td>276747</td>\n",
       "      <td>0060517794</td>\n",
       "      <td>checkout</td>\n",
       "    </tr>\n",
       "    <tr>\n",
       "      <th>1</th>\n",
       "      <td>19</td>\n",
       "      <td>276747</td>\n",
       "      <td>0671537458</td>\n",
       "      <td>checkout</td>\n",
       "    </tr>\n",
       "    <tr>\n",
       "      <th>2</th>\n",
       "      <td>20</td>\n",
       "      <td>276747</td>\n",
       "      <td>0679776818</td>\n",
       "      <td>add to cart</td>\n",
       "    </tr>\n",
       "    <tr>\n",
       "      <th>3</th>\n",
       "      <td>133</td>\n",
       "      <td>276822</td>\n",
       "      <td>0060096195</td>\n",
       "      <td>checkout</td>\n",
       "    </tr>\n",
       "    <tr>\n",
       "      <th>4</th>\n",
       "      <td>137</td>\n",
       "      <td>276822</td>\n",
       "      <td>0375821813</td>\n",
       "      <td>checkout</td>\n",
       "    </tr>\n",
       "  </tbody>\n",
       "</table>\n",
       "</div>"
      ],
      "text/plain": [
       "   order    user      bookId   impression\n",
       "0     16  276747  0060517794     checkout\n",
       "1     19  276747  0671537458     checkout\n",
       "2     20  276747  0679776818  add to cart\n",
       "3    133  276822  0060096195     checkout\n",
       "4    137  276822  0375821813     checkout"
      ]
     },
     "execution_count": 12,
     "metadata": {},
     "output_type": "execute_result"
    }
   ],
   "source": [
    "#Looking at the result\n",
    "user_events.head()"
   ]
  },
  {
   "cell_type": "code",
   "execution_count": 13,
   "metadata": {},
   "outputs": [
    {
     "name": "stdout",
     "output_type": "stream",
     "text": [
      "Different impressions ['checkout' 'add to cart' 'view' 'like' 'interact' 'dislike']\n",
      "Min book year 0\n",
      "Max book year 2005\n",
      "Min age user 0.0\n",
      "Max age user 209.0\n"
     ]
    }
   ],
   "source": [
    "#Checking column behavior\n",
    "print('Different impressions', user_events['impression'].unique())\n",
    "\n",
    "print('Min book year', books['yearOfPublication'].min())\n",
    "print('Max book year', books['yearOfPublication'].max())\n",
    "\n",
    "print('Min age user', users['age'].min())\n",
    "print('Max age user', users['age'].max())"
   ]
  },
  {
   "cell_type": "code",
   "execution_count": 14,
   "metadata": {},
   "outputs": [
    {
     "data": {
      "image/png": "[encoded data removed]",
      "text/plain": [
       "<Figure size 432x288 with 1 Axes>"
      ]
     },
     "metadata": {
      "needs_background": "light"
     },
     "output_type": "display_data"
    },
    {
     "data": {
      "image/png": "[encoded data removed]",
      "text/plain": [
       "<Figure size 432x288 with 1 Axes>"
      ]
     },
     "metadata": {
      "needs_background": "light"
     },
     "output_type": "display_data"
    }
   ],
   "source": [
    "#It seens that we have some outliers on the book's year field and on the user's age field. \n",
    "#Let's check if they are significant\n",
    "\n",
    "plt.figure()\n",
    "plt.title('Book - year of publication')\n",
    "rbins = plt.hist(books['yearOfPublication'])\n",
    "\n",
    "plt.figure()\n",
    "plt.title('User age')\n",
    "rbins = plt.hist(users['age'])"
   ]
  },
  {
   "cell_type": "code",
   "execution_count": 15,
   "metadata": {},
   "outputs": [],
   "source": [
    "#The outliers are not very frequent, so i will not do anything for now"
   ]
  },
  {
   "cell_type": "code",
   "execution_count": 16,
   "metadata": {},
   "outputs": [
    {
     "name": "stdout",
     "output_type": "stream",
     "text": [
      "Num users in the Users dataframe 1000\n",
      "Num users in the User events dataframe 13030\n",
      "Percentage of user ids in the user event 100.00 %\n",
      "Num books in the Books dataframe 3000\n",
      "Num books in the User events dataframe 11234\n",
      "Percentage of book ids in the user event 100.00 %\n"
     ]
    }
   ],
   "source": [
    "#Let's check how we can link the datasets\n",
    "set_u_user = set(users['user'])\n",
    "set_ue_user = set(user_events['user'])\n",
    "set_b_bookid = set(books['bookISBN'])\n",
    "set_ue_bookid = set(user_events['bookId'])\n",
    "\n",
    "p_user = 100.0*len(set_u_user.intersection(set_ue_user))/float(len(set_u_user))\n",
    "p_bookid = 100.0*len(set_b_bookid.intersection(set_ue_bookid))/float(len(set_b_bookid))\n",
    "\n",
    "print('Num users in the Users dataframe', len(set_u_user))\n",
    "print('Num users in the User events dataframe', len(set_ue_user))\n",
    "print('Percentage of user ids in the user event %2.2f %%' % p_user)\n",
    "\n",
    "print('Num books in the Books dataframe', len(set_b_bookid))\n",
    "print('Num books in the User events dataframe', len(set_ue_bookid))\n",
    "print('Percentage of book ids in the user event %2.2f %%' % p_user)"
   ]
  },
  {
   "cell_type": "code",
   "execution_count": 17,
   "metadata": {},
   "outputs": [],
   "source": [
    "#We can see that the User's dataframe and the User event's dataframe can be linked by the user field, but there are\n",
    "#Events which have user's that aren't on the User's dataframe. The same happens with the Book dataframe \n",
    "#and the bookISBN field, which can be linked with the bookId field"
   ]
  },
  {
   "cell_type": "code",
   "execution_count": 18,
   "metadata": {},
   "outputs": [],
   "source": [
    "def get_valid_books(user_events_df, books_df, valid_users):\n",
    "    set_usable_book_ids = set(user_events_df[(user_events_df['impression'] == 'checkout') & \n",
    "                                         (user_events_df['user'].isin(valid_users))]['bookId'])\n",
    "    set_known_book_ids = set(books_df['bookISBN'])\n",
    "    set_books_valid_users = list(set_usable_book_ids.intersection(set_known_book_ids))\n",
    "    return set_books_valid_users\n",
    "\n",
    "def get_num_purchases_by_book(user_events_df, valid_users, valid_books):\n",
    "    print('Verifying how many times each book was bought')\n",
    "    num_sales = {}\n",
    "    filtered_events_df = user_events_df[(user_events_df['impression'] == 'checkout') \n",
    "                                      & (user_events_df['user'].isin(valid_users))]\n",
    "    for book in tqdm(valid_books):\n",
    "        relevant_events = filtered_events_df[filtered_events_df['bookId'] == book]\n",
    "        current_num_sales = relevant_events.shape[0]\n",
    "        num_sales[book] = current_num_sales\n",
    "    return num_sales"
   ]
  },
  {
   "cell_type": "code",
   "execution_count": 19,
   "metadata": {},
   "outputs": [
    {
     "name": "stdout",
     "output_type": "stream",
     "text": [
      "Number of different known books that were bought by a known user 810\n"
     ]
    }
   ],
   "source": [
    "#Let's check for book significance. That is, the books that were bought by someone (impression = checkout) who is a \n",
    "#known user\n",
    "set_valid_users = set(users['user'])\n",
    "set_books_valid_users = get_valid_books(user_events, books, set_valid_users)\n",
    "print('Number of different known books that were bought by a known user', len(set_books_valid_users))"
   ]
  },
  {
   "cell_type": "code",
   "execution_count": 20,
   "metadata": {},
   "outputs": [],
   "source": [
    "#We can see that only 810 from the 3000 books where bought by a valid user"
   ]
  },
  {
   "cell_type": "code",
   "execution_count": 21,
   "metadata": {},
   "outputs": [
    {
     "name": "stdout",
     "output_type": "stream",
     "text": [
      "Verifying how many times each book was bought\n"
     ]
    },
    {
     "name": "stderr",
     "output_type": "stream",
     "text": [
      "100%|██████████| 810/810 [00:01<00:00, 675.95it/s]\n"
     ]
    }
   ],
   "source": [
    "#Let's check how many times each book was bought\n",
    "num_sales = get_num_purchases_by_book(user_events, set_valid_users, set_books_valid_users)"
   ]
  },
  {
   "cell_type": "code",
   "execution_count": 22,
   "metadata": {},
   "outputs": [
    {
     "data": {
      "image/png": "[encoded data removed]",
      "text/plain": [
       "<Figure size 432x288 with 1 Axes>"
      ]
     },
     "metadata": {
      "needs_background": "light"
     },
     "output_type": "display_data"
    }
   ],
   "source": [
    "plt.figure()\n",
    "plt.title('Number of times the book was bought')\n",
    "rbins = plt.hist(num_sales.values(), bins=[x for x in range(0,80, 2)])"
   ]
  },
  {
   "cell_type": "code",
   "execution_count": 23,
   "metadata": {},
   "outputs": [],
   "source": [
    "#We can see that the numbers are really small. Let's remove the imposition that the user should be known"
   ]
  },
  {
   "cell_type": "code",
   "execution_count": 24,
   "metadata": {},
   "outputs": [
    {
     "name": "stdout",
     "output_type": "stream",
     "text": [
      "Number of different known books that were bought by a known or unknown user 2772\n"
     ]
    }
   ],
   "source": [
    "set_all_users = set(user_events['user'])\n",
    "set_books = get_valid_books(user_events, books, set_all_users)\n",
    "print('Number of different known books that were bought by a known or unknown user', len(set_books))"
   ]
  },
  {
   "cell_type": "code",
   "execution_count": 25,
   "metadata": {
    "scrolled": true
   },
   "outputs": [
    {
     "name": "stdout",
     "output_type": "stream",
     "text": [
      "Verifying how many times each book was bought\n"
     ]
    },
    {
     "name": "stderr",
     "output_type": "stream",
     "text": [
      "100%|██████████| 2772/2772 [00:36<00:00, 76.83it/s]\n"
     ]
    }
   ],
   "source": [
    "#Verifying book relevance\n",
    "num_sales = get_num_purchases_by_book(user_events, set_all_users, set_books)"
   ]
  },
  {
   "cell_type": "code",
   "execution_count": 26,
   "metadata": {},
   "outputs": [
    {
     "data": {
      "image/png": "[encoded data removed]",
      "text/plain": [
       "<Figure size 432x288 with 1 Axes>"
      ]
     },
     "metadata": {
      "needs_background": "light"
     },
     "output_type": "display_data"
    }
   ],
   "source": [
    "plt.figure()\n",
    "plt.title('Number of times the book was bought')\n",
    "rbins = plt.hist(num_sales.values(), bins=[x for x in range(0,80, 2)])"
   ]
  },
  {
   "cell_type": "code",
   "execution_count": 27,
   "metadata": {},
   "outputs": [
    {
     "name": "stdout",
     "output_type": "stream",
     "text": [
      "Number of valid books 281\n"
     ]
    }
   ],
   "source": [
    "#For now, let's limitate our analysis to the books which were bought at least 10 times. We will also not limitate the \n",
    "#users to the ones present at the User's dataframe\n",
    "minimum_number_of_sales = 10\n",
    "set_valid_books = list([k for k in num_sales.keys() if num_sales[k] >= minimum_number_of_sales])\n",
    "print('Number of valid books', len(set_valid_books))"
   ]
  },
  {
   "cell_type": "code",
   "execution_count": 28,
   "metadata": {},
   "outputs": [],
   "source": [
    "def create_book_info_dictionary(book_dataframe):\n",
    "    book_dict = {}\n",
    "    for _, row in book_dataframe.iterrows():\n",
    "        book_dict[row['bookISBN']] = {'author': row['author'], \n",
    "                                      'name': row['bookName'], \n",
    "                                      'year': row['yearOfPublication'],\n",
    "                                      'publisher': row['publisher']\n",
    "                                     }\n",
    "    return book_dict\n",
    "\n",
    "def create_user_info_dictionary(user_dataframe):\n",
    "    user_dict = {}\n",
    "    for _, row in user_dataframe.iterrows():\n",
    "        user_dict[row['user']] = {'age': row['age'], \n",
    "                                  'location': row['location'], \n",
    "                                  'age_defined': int(row['age_defined'])}\n",
    "    return user_dict\n",
    "\n",
    "def append_number_in_dictionary(my_dict, my_key, value, avoid_zeros=True):\n",
    "    if value == 0 and avoid_zeros:\n",
    "        return \n",
    "    \n",
    "    if my_key in my_dict:\n",
    "        my_dict[my_key].append(float(value))\n",
    "    else:\n",
    "        my_dict[my_key] = [float(value)]\n",
    "\n",
    "def append_string_in_dictionary(my_dict, my_key, value):\n",
    "    if my_key in my_dict:\n",
    "        my_dict[my_key] += ' ' + str(value)\n",
    "    else:\n",
    "        my_dict[my_key] = str(value)\n",
    "\n",
    "def build_prototype_dict(existent_impressions):\n",
    "    prototype_dict = {}\n",
    "    \n",
    "    for impr in existent_impressions:\n",
    "        impr_id = impr + '_id'\n",
    "        impr_name = impr + '_name'\n",
    "        impr_author = impr + '_author'\n",
    "        impr_year = impr + '_year'\n",
    "        impr_publisher = impr + '_publisher'\n",
    "        \n",
    "        prototype_dict[impr_id] = ''\n",
    "        prototype_dict[impr_name] = ''\n",
    "        prototype_dict[impr_author] = ''\n",
    "        prototype_dict[impr_year] = []\n",
    "        prototype_dict[impr_publisher] = ''\n",
    "    \n",
    "    prototype_dict.update({'age': 0.0, 'location': '', 'age_defined': 0})\n",
    "    return prototype_dict\n",
    "\n",
    "def make_mean_of_year_features(feature_dict):\n",
    "    target_keys = [k for k in feature_dict.keys() if '_year' in k]\n",
    "    for key in target_keys:\n",
    "        if len(feature_dict[key]) > 0:\n",
    "            feature_dict[key] = np.mean(feature_dict[key])\n",
    "        else:\n",
    "            feature_dict[key] = 0.0\n",
    "\n",
    "def build_user_purcharse_info_dict(user, \n",
    "                    impressions_available,\n",
    "                    user_info_dict,\n",
    "                    book_info_dict,\n",
    "                    number_of_previous_events=10):\n",
    "    \"\"\"\n",
    "    The featureset is built as follows:\n",
    "    \n",
    "    We first divide the books that the user interacted with by impression (like, dislike, add to cart).\n",
    "    For each group, we concatenate the all the book's ids, all the book's names, \n",
    "    all the book's authors and all the book's publishers. Each one of these\n",
    "    strings will be futher vectorized using the bag of words strategy. We also compute the mean\n",
    "    of the publication years of the books.\n",
    "    \n",
    "    The user's age and location is also used as feature. If the user is not known (is not present on the user's\n",
    "    dataframe), the age is set to zero, the location is set to the empty string and a flag called age_defined will be\n",
    "    set to zero (it is one on the known users)\n",
    "    \"\"\"\n",
    "    \n",
    "    if type(user) != str: \n",
    "        user = str(user)\n",
    "    \n",
    "    try:\n",
    "        user_info = user_info_dict[user]\n",
    "        user_age = user_info['age']\n",
    "        location= user_info['location']\n",
    "        age_defined = user_info['age_defined']\n",
    "    except:\n",
    "        user_age = 0.0\n",
    "        location = ''\n",
    "        age_defined = 0\n",
    "    \n",
    "    relevant_events = user_events[user_events['user'] == user]\n",
    "    relevant_events = relevant_events.sort_values(by='order')\n",
    "    relevant_purcharces = relevant_events[relevant_events['impression'] == 'checkout']\n",
    "    features = []\n",
    "    \n",
    "    for _, current_purcharce in relevant_purcharces.iterrows():\n",
    "        prototype = build_prototype_dict(impressions_available)\n",
    "        \n",
    "        current_order = current_purcharce['order']\n",
    "        current_bid = current_purcharce['bookId']\n",
    "        happened_before = relevant_events[relevant_events['order'] < current_order].tail(number_of_previous_events)\n",
    "    \n",
    "        for _, row in happened_before.iterrows():\n",
    "            impr = row['impression']\n",
    "            current_book = row['bookId']\n",
    "            \n",
    "            impr_id = impr + '_id'\n",
    "            impr_name = impr + '_name'\n",
    "            impr_author = impr + '_author'\n",
    "            impr_year = impr + '_year'\n",
    "            impr_publisher = impr + '_publisher'\n",
    "                \n",
    "            book_name = ''\n",
    "            book_author = ''\n",
    "            book_year = 0.0\n",
    "            book_publisher = ''\n",
    "                \n",
    "            if current_book in book_info_dict:\n",
    "                book_info = book_info_dict[current_book]\n",
    "                book_name = book_info['name']\n",
    "                book_author = book_info['author']\n",
    "                book_year = book_info['year']\n",
    "                book_publisher = book_info['publisher']\n",
    "\n",
    "            append_string_in_dictionary(prototype, impr_id, current_book)\n",
    "            append_string_in_dictionary(prototype, impr_name, book_name)\n",
    "            append_string_in_dictionary(prototype, impr_author, book_author)\n",
    "            append_number_in_dictionary(prototype, impr_year, book_year)\n",
    "            append_string_in_dictionary(prototype, impr_publisher, book_publisher)\n",
    "        \n",
    "        make_mean_of_year_features(prototype)\n",
    "        prototype.update({'age': user_age, \n",
    "                          'location': location, \n",
    "                          'age_defined': age_defined})\n",
    "        features.append({'raw_features': prototype,\n",
    "                         'user_id': user,\n",
    "                         'book_bought': current_bid})\n",
    "    return features\n"
   ]
  },
  {
   "cell_type": "code",
   "execution_count": 29,
   "metadata": {},
   "outputs": [
    {
     "name": "stdout",
     "output_type": "stream",
     "text": [
      "Number of usable users 3191\n"
     ]
    }
   ],
   "source": [
    "#Let's check which users have bought known books\n",
    "set_valid_users = list(user_events[user_events['bookId'].isin(set_valid_books) \n",
    "                                  & (user_events['impression'] == 'checkout')]['user'].unique())\n",
    "print('Number of usable users', len(set_valid_users))\n"
   ]
  },
  {
   "cell_type": "code",
   "execution_count": 30,
   "metadata": {},
   "outputs": [
    {
     "name": "stdout",
     "output_type": "stream",
     "text": [
      "Creating feature dicts\n"
     ]
    },
    {
     "name": "stderr",
     "output_type": "stream",
     "text": [
      "100%|██████████| 3191/3191 [02:53<00:00, 18.43it/s]\n"
     ]
    },
    {
     "name": "stdout",
     "output_type": "stream",
     "text": [
      "Num feature dicts 5800\n",
      "Separating into train and test sets\n"
     ]
    },
    {
     "name": "stderr",
     "output_type": "stream",
     "text": [
      "100%|██████████| 281/281 [00:00<00:00, 140526.94it/s]\n"
     ]
    },
    {
     "name": "stdout",
     "output_type": "stream",
     "text": [
      "Num feats train 4537\n",
      "Num feats test 1263\n"
     ]
    }
   ],
   "source": [
    "set_of_impressions = list(user_events['impression'].unique())\n",
    "book_dict = create_book_info_dictionary(books)\n",
    "user_dict = create_user_info_dictionary(users)\n",
    "\n",
    "def create_purcharse_info_for_user_set(user_set):    \n",
    "    purcharse_info = {}\n",
    "    num_feats = 0\n",
    "\n",
    "    print('Creating feature dicts')\n",
    "    for user in tqdm(user_set):\n",
    "        new_features = build_user_purcharse_info_dict(user,\n",
    "                                                     set_of_impressions,\n",
    "                                                     user_dict,\n",
    "                                                     book_dict)\n",
    "        for new_feat in new_features:\n",
    "            if new_feat['book_bought'] not in set_valid_books:\n",
    "                continue\n",
    "\n",
    "            num_feats += 1\n",
    "\n",
    "            if new_feat['book_bought'] in purcharse_info:\n",
    "                purcharse_info[new_feat['book_bought']].append(new_feat)\n",
    "            else:\n",
    "                purcharse_info[new_feat['book_bought']] = [new_feat]\n",
    "\n",
    "    print('Num feature dicts', num_feats)\n",
    "\n",
    "    return purcharse_info\n",
    "\n",
    "def separate_train_and_test_purcharse_info(all_purcharse_info):\n",
    "    purcharse_dicts_train = []\n",
    "    purcharse_dicts_test = []\n",
    "    print('Separating into train and test sets')\n",
    "    for book_key in tqdm(all_purcharse_info.keys()):\n",
    "        total = len(all_purcharse_info[book_key])\n",
    "        num_train = max(int(0.8*total), 1)\n",
    "        purcharse_dicts_train += all_purcharse_info[book_key][:num_train]\n",
    "        purcharse_dicts_test += all_purcharse_info[book_key][num_train:]\n",
    "\n",
    "    print('Num feats train', len(purcharse_dicts_train))\n",
    "    print('Num feats test', len(purcharse_dicts_test))\n",
    "    \n",
    "    return purcharse_dicts_train, purcharse_dicts_test\n",
    "    \n",
    "all_purcharse_info = create_purcharse_info_for_user_set(set_valid_users)\n",
    "purcharse_dicts_train, purcharse_dicts_test = separate_train_and_test_purcharse_info(all_purcharse_info)"
   ]
  },
  {
   "cell_type": "code",
   "execution_count": 31,
   "metadata": {},
   "outputs": [],
   "source": [
    "#Creating vectorizers for text fields and taking the statistics for numeric fields\n",
    "\n",
    "def create_vectorizers_and_statistics(purcharse_informations):\n",
    "    name_vectorizer = CountVectorizer()\n",
    "    author_vectorizer = CountVectorizer()\n",
    "    publisher_vectorizer = CountVectorizer()\n",
    "    id_vectorizer = CountVectorizer()\n",
    "    location_vectorizer = CountVectorizer()\n",
    "\n",
    "    ages = [p['raw_features']['age'] for p in purcharse_informations]\n",
    "    locations = [p['raw_features']['location'] for p in purcharse_informations]\n",
    "    \n",
    "    names_texts = []\n",
    "    authors_texts = []\n",
    "    publishers_texts = []\n",
    "    ids_texts = []\n",
    "    years = []\n",
    "\n",
    "    feat_names = list(purcharse_informations[0]['raw_features'].keys())\n",
    "    for fn in feat_names:\n",
    "        for pi in purcharse_informations:\n",
    "            pf = pi['raw_features']\n",
    "            if '_name' in fn:\n",
    "                names_texts.append(pf[fn])\n",
    "            if '_author' in fn:\n",
    "                authors_texts.append(pf[fn])\n",
    "            if '_publisher' in fn:\n",
    "                publishers_texts.append(pf[fn])\n",
    "            if '_id' in fn:\n",
    "                ids_texts.append(pf[fn])\n",
    "            if '_year' in fn:\n",
    "                years.append(pf[fn])\n",
    "\n",
    "    statistics_age = {'max': np.max(ages), 'min': np.min(ages)}\n",
    "    statistics_years = {'max': np.max(years), 'min': np.min(years)}\n",
    "\n",
    "    name_vectorizer.fit(names_texts)\n",
    "    author_vectorizer.fit(authors_texts)\n",
    "    publisher_vectorizer.fit(publishers_texts)\n",
    "    id_vectorizer.fit(ids_texts)\n",
    "    location_vectorizer.fit(locations)\n",
    "    \n",
    "    return {\n",
    "        'name_vectorizer': name_vectorizer,\n",
    "        'author_vectorizer': author_vectorizer,\n",
    "        'publisher_vectorizer': publisher_vectorizer,\n",
    "        'id_vectorizer': id_vectorizer,\n",
    "        'location_vectorizer': location_vectorizer,\n",
    "        'statistics_age': statistics_age,\n",
    "        'statistics_years': statistics_years\n",
    "    }\n",
    "\n",
    "vectorizers_and_statistics = create_vectorizers_and_statistics(purcharse_dicts_train)"
   ]
  },
  {
   "cell_type": "code",
   "execution_count": 32,
   "metadata": {},
   "outputs": [],
   "source": [
    "def feature_dict_to_feature_vector(feature_dict, \n",
    "                                  vectorizers_and_statistics):\n",
    "    id_vectorizer = vectorizers_and_statistics['id_vectorizer']\n",
    "    name_vectorizer = vectorizers_and_statistics['name_vectorizer']\n",
    "    author_vectorizer = vectorizers_and_statistics['author_vectorizer']\n",
    "    publisher_vectorizer = vectorizers_and_statistics['publisher_vectorizer']\n",
    "    location_vectorizer = vectorizers_and_statistics['location_vectorizer']\n",
    "    statistics_age = vectorizers_and_statistics['statistics_age']\n",
    "    statistics_years = vectorizers_and_statistics['statistics_years']\n",
    "    feature_vectors = []\n",
    "    normalized_age = (feature_dict['age'] - statistics_age['min'])/(statistics_age['max'] - statistics_age['min'])\n",
    "    feature_vectors.append(normalized_age)\n",
    "    feature_vectors.append(feature_dict['age_defined'])\n",
    "    \n",
    "    for impr in set_of_impressions:\n",
    "        relevant_feat_names = [k for k in feature_dict.keys() if impr in k]\n",
    "        for fn in relevant_feat_names:\n",
    "            if '_id' in fn:\n",
    "                feature_vectors.append(id_vectorizer.transform([feature_dict[fn]])[0])\n",
    "            if '_name' in fn:\n",
    "                feature_vectors.append(name_vectorizer.transform([feature_dict[fn]])[0])\n",
    "            if '_author' in fn:\n",
    "                feature_vectors.append(author_vectorizer.transform([feature_dict[fn]])[0])\n",
    "            if '_publisher' in fn:\n",
    "                feature_vectors.append(publisher_vectorizer.transform([feature_dict[fn]])[0])\n",
    "            if '_year' in fn:\n",
    "                normalized_val = (feature_dict[fn] - statistics_years['min'])/\\\n",
    "                (statistics_years['max'] - statistics_years['min'])\n",
    "                feature_vectors.append([normalized_val])\n",
    "                \n",
    "    feature_vectors.append(location_vectorizer.transform([feature_dict['location']])[0])\n",
    "    \n",
    "    return hstack(feature_vectors)\n",
    "\n",
    "def build_numeric_featureset_and_targets(purcharse_infos, vectorizers_and_statistics, target_name_list):\n",
    "    X = []\n",
    "    Y = []\n",
    "    USERS = []\n",
    "    \n",
    "    print('Building the feature vectors')\n",
    "    for pi in tqdm(purcharse_infos):\n",
    "        x = feature_dict_to_feature_vector(pi['raw_features'], vectorizers_and_statistics)\n",
    "        X.append(x)\n",
    "        Y.append(pi['book_bought'])\n",
    "        USERS.append(pi['user_id'])\n",
    "        \n",
    "    X = vstack(X)\n",
    "    Y = [target_name_list.index(y) for y in Y]\n",
    "    \n",
    "    return X, Y, USERS"
   ]
  },
  {
   "cell_type": "code",
   "execution_count": 33,
   "metadata": {},
   "outputs": [
    {
     "name": "stdout",
     "output_type": "stream",
     "text": [
      "Building the feature vectors\n"
     ]
    },
    {
     "name": "stderr",
     "output_type": "stream",
     "text": [
      "100%|██████████| 4537/4537 [00:57<00:00, 98.21it/s] \n"
     ]
    }
   ],
   "source": [
    "X_train, Y_train, Users_train = build_numeric_featureset_and_targets(purcharse_dicts_train, \n",
    "                                                                     vectorizers_and_statistics,\n",
    "                                                                     set_valid_books)"
   ]
  },
  {
   "cell_type": "code",
   "execution_count": 34,
   "metadata": {},
   "outputs": [
    {
     "name": "stdout",
     "output_type": "stream",
     "text": [
      "Building the feature vectors\n"
     ]
    },
    {
     "name": "stderr",
     "output_type": "stream",
     "text": [
      "100%|██████████| 1263/1263 [00:10<00:00, 116.20it/s]\n"
     ]
    }
   ],
   "source": [
    "X_test, Y_test, Users_test = build_numeric_featureset_and_targets(purcharse_dicts_test, \n",
    "                                                                  vectorizers_and_statistics,\n",
    "                                                                  set_valid_books)"
   ]
  },
  {
   "cell_type": "code",
   "execution_count": 35,
   "metadata": {},
   "outputs": [
    {
     "data": {
      "text/plain": [
       "LogisticRegression(C=1.0, class_weight=None, dual=False, fit_intercept=True,\n",
       "          intercept_scaling=1, max_iter=100, multi_class='ovr', n_jobs=1,\n",
       "          penalty='l2', random_state=0, solver='liblinear', tol=0.0001,\n",
       "          verbose=0, warm_start=False)"
      ]
     },
     "execution_count": 35,
     "metadata": {},
     "output_type": "execute_result"
    }
   ],
   "source": [
    "#Training classifier\n",
    "from sklearn.linear_model import LogisticRegression\n",
    "\n",
    "classifier = LogisticRegression(random_state=seed)\n",
    "classifier.fit(X_train, Y_train)"
   ]
  },
  {
   "cell_type": "code",
   "execution_count": 36,
   "metadata": {},
   "outputs": [],
   "source": [
    "#Remember that the user may not be on the Users dataframe\n",
    "def generate_result_dataframe(model, X_test, Y_test, Users_test, target_name_list):\n",
    "    column_names = ['book_' + tg for tg in target_name_list]\n",
    "    y_score = model.predict_proba(X_test)\n",
    "    result_df = pd.DataFrame(y_score, columns=column_names)\n",
    "    result_df.insert(0, 'user_id', Users_test)\n",
    "    return result_df\n",
    "\n",
    "def save_results(result_df):\n",
    "    matrix_with_no_user = result_df.drop(['user_id'], axis=1)\n",
    "    matrix_with_no_user.to_csv('result_matrix.csv', sep=';', index=False, header=False)"
   ]
  },
  {
   "cell_type": "code",
   "execution_count": 37,
   "metadata": {},
   "outputs": [],
   "source": [
    "rm = generate_result_dataframe(classifier, X_test, Y_test, Users_test, set_valid_books)\n",
    "save_results(rm)"
   ]
  },
  {
   "cell_type": "code",
   "execution_count": 38,
   "metadata": {},
   "outputs": [
    {
     "name": "stderr",
     "output_type": "stream",
     "text": [
      "100%|██████████| 281/281 [00:00<00:00, 826.94it/s]\n"
     ]
    },
    {
     "data": {
      "image/png": "[encoded data removed]",
      "text/plain": [
       "<Figure size 432x288 with 1 Axes>"
      ]
     },
     "metadata": {
      "needs_background": "light"
     },
     "output_type": "display_data"
    },
    {
     "name": "stdout",
     "output_type": "stream",
     "text": [
      "Average AOC 0.7037297775349947\n"
     ]
    }
   ],
   "source": [
    "#Based on http://scikit-learn.org/stable/auto_examples/model_selection/plot_roc.html\n",
    "def compute_mean_auroc(result_dataframe, Y_test, plot_mean_roc=True):\n",
    "    fpr = dict()\n",
    "    tpr = dict()\n",
    "    roc_auc = dict()\n",
    "\n",
    "    result_dataframe = result_dataframe.drop(['user_id'], axis=1)\n",
    "    num_classes = result_dataframe.shape[1]\n",
    "    result_matrix = result_dataframe.values\n",
    "\n",
    "    for c in tqdm(range(num_classes)):\n",
    "        current_Y_test = [int(y == c) for y in Y_test]\n",
    "        current_Y_score = result_matrix[:, c]\n",
    "        fpr[c], tpr[c], _ = roc_curve(current_Y_test, current_Y_score)\n",
    "        roc_auc[c] = auc(fpr[c], tpr[c])\n",
    "\n",
    "    all_fpr = np.unique(np.concatenate([fpr[c] for c in range(num_classes)]))\n",
    "\n",
    "    mean_tpr = np.zeros_like(all_fpr)\n",
    "    for c in range(num_classes):\n",
    "        mean_tpr += interp(all_fpr, fpr[c], tpr[c])\n",
    "\n",
    "    mean_tpr /= num_classes\n",
    "\n",
    "    fpr[\"macro\"] = all_fpr\n",
    "    tpr[\"macro\"] = mean_tpr\n",
    "    roc_auc[\"macro\"] = auc(fpr[\"macro\"], tpr[\"macro\"])\n",
    "\n",
    "    if plot_mean_roc:\n",
    "        plt.figure()\n",
    "        plt.plot(fpr[\"macro\"], tpr[\"macro\"],\n",
    "                 color='navy', linestyle=':', linewidth=4)\n",
    "\n",
    "        plt.plot([0, 1], [0, 1], 'k--', lw=2)\n",
    "        plt.xlim([0.0, 1.0])\n",
    "        plt.ylim([0.0, 1.05])\n",
    "        plt.xlabel('False Positive Rate')\n",
    "        plt.ylabel('True Positive Rate')\n",
    "        plt.show(block=False)\n",
    "\n",
    "    return roc_auc['macro']\n",
    "\n",
    "auroc = compute_mean_auroc(rm, Y_test)\n",
    "print('Average AOC', auroc)    "
   ]
  },
  {
   "cell_type": "code",
   "execution_count": null,
   "metadata": {},
   "outputs": [],
   "source": []
  }
 ],
 "metadata": {
  "kernelspec": {
   "display_name": "Python 3",
   "language": "python",
   "name": "python3"
  },
  "language_info": {
   "codemirror_mode": {
    "name": "ipython",
    "version": 3
   },
   "file_extension": ".py",
   "mimetype": "text/x-python",
   "name": "python",
   "nbconvert_exporter": "python",
   "pygments_lexer": "ipython3",
   "version": "3.7.0"
  }
 },
 "nbformat": 4,
 "nbformat_minor": 2
}
