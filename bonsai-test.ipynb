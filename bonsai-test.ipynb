{
 "cells": [
  {
   "cell_type": "code",
   "execution_count": 1,
   "metadata": {},
   "outputs": [],
   "source": [
    "import random\n",
    "import json\n",
    "from sklearn.preprocessing import LabelEncoder\n",
    "from sklearn.metrics import roc_curve, auc\n",
    "import matplotlib.pyplot as plt\n",
    "import numpy as np\n",
    "import pandas as pd"
   ]
  },
  {
   "cell_type": "markdown",
   "metadata": {},
   "source": [
    "# Load data"
   ]
  },
  {
   "cell_type": "code",
   "execution_count": 2,
   "metadata": {},
   "outputs": [],
   "source": [
    "data_dir = 'training_mixpanel.txt'\n",
    "with open(data_dir) as f:\n",
    "    purchase_data = json.load(f)\n",
    "data = [item['properties'] for item in purchase_data]\n",
    "df_raw = pd.DataFrame(data)"
   ]
  },
  {
   "cell_type": "markdown",
   "metadata": {},
   "source": [
    "# Create encoded DataFrame"
   ]
  },
  {
   "cell_type": "markdown",
   "metadata": {},
   "source": [
    "First, I extract the unit price in case I decide to use it later. Then I create a new DataFrame which only contains the features which I'll use to build the user profiles. Finally, I encode the customer and product labels to facilitate working with the data later."
   ]
  },
  {
   "cell_type": "code",
   "execution_count": 3,
   "metadata": {},
   "outputs": [],
   "source": [
    "# remove unit prices from dataframe\n",
    "unit_prices = df_raw[['product_id','unit_price']].drop_duplicates(subset='product_id')"
   ]
  },
  {
   "cell_type": "code",
   "execution_count": 4,
   "metadata": {},
   "outputs": [],
   "source": [
    "# drop features which I won't be using\n",
    "df = df_raw[['customer_id','product_id','quantity']]"
   ]
  },
  {
   "cell_type": "code",
   "execution_count": null,
   "metadata": {},
   "outputs": [],
   "source": [
    "# encode product and customer labels\n",
    "enc_product = LabelEncoder()\n",
    "enc_customer = LabelEncoder()\n",
    "df.loc[:,'product_id'] = enc_product.fit_transform(df.loc[:,'product_id'])\n",
    "df.loc[:,'customer_id'] = enc_customer.fit_transform(df.loc[:,'customer_id'])"
   ]
  },
  {
   "cell_type": "code",
   "execution_count": 13,
   "metadata": {},
   "outputs": [],
   "source": [
    "product_set = set(df['product_id'])\n",
    "customer_set = set(df['customer_id'])\n",
    "n_products = len(product_set)\n",
    "n_customers = len(customer_set)"
   ]
  },
  {
   "cell_type": "markdown",
   "metadata": {},
   "source": [
    "# Create Model"
   ]
  },
  {
   "cell_type": "markdown",
   "metadata": {},
   "source": [
    "The model below is very simple. I assume that the purchase history we have is a good enough representation of each users distribution over purchases. To calculate the probability that a user will purchase a certain product, I simply add up the number of purchases of that product, and divide it by the users total number of purchases."
   ]
  },
  {
   "cell_type": "code",
   "execution_count": 35,
   "metadata": {},
   "outputs": [],
   "source": [
    "class Model(object):\n",
    "    \n",
    "    def __init__(self):\n",
    "        self.user_profiles = np.zeros((n_customers,n_products), dtype=np.float16)\n",
    "        \n",
    "    def build(self,df):\n",
    "        \"\"\"\n",
    "        Create user profiles\n",
    "        \n",
    "        Args:\n",
    "            df: DataFrame of purchase history with\n",
    "            customer labels under 'customer_id' and\n",
    "            products purchased under 'product_id'\n",
    "        \"\"\"\n",
    "        for customer in df['customer_id'].unique():\n",
    "            # get customer purchase history\n",
    "            df_customer = df[df['customer_id'] == customer]\n",
    "            purchase_history = df_customer['product_id'].value_counts()\n",
    "            # calculate the fraction of total products for each product\n",
    "            total_purchases = float(sum(purchase_history.values))\n",
    "            fraction_of_purchases = purchase_history/total_purchases\n",
    "            # add to user profile matrix\n",
    "            for product in purchase_history.index:\n",
    "                self.user_profiles[customer][product] = fraction_of_purchases[product]\n",
    "    \n",
    "    def save(self, file_name):\n",
    "        \"\"\"Saves user profiles to a csv\"\"\"\n",
    "        np.save(file_name, self.user_profiles)\n",
    "        \n",
    "    def load(self, file_name): \n",
    "        \"\"\"Saves user profiles from a csv\"\"\"\n",
    "        self.user_profiles = np.load(file_name)\n",
    "                   \n",
    "    def predict(self, customer, product):\n",
    "        \"\"\"Return customers probability of purchasing product\"\"\"\n",
    "        return self.user_profiles[customer][product]"
   ]
  },
  {
   "cell_type": "code",
   "execution_count": 36,
   "metadata": {},
   "outputs": [],
   "source": [
    "model = Model()"
   ]
  },
  {
   "cell_type": "code",
   "execution_count": 37,
   "metadata": {},
   "outputs": [],
   "source": [
    "# build model using DataFrame of purchase history\n",
    "model.build(df)"
   ]
  },
  {
   "cell_type": "code",
   "execution_count": 38,
   "metadata": {},
   "outputs": [],
   "source": [
    "# save user profile data\n",
    "model.save(\"user_profiles.npy\")"
   ]
  },
  {
   "cell_type": "code",
   "execution_count": 39,
   "metadata": {},
   "outputs": [],
   "source": [
    "# load user profile data\n",
    "model.load(\"user_profiles.npy\")"
   ]
  },
  {
   "cell_type": "markdown",
   "metadata": {},
   "source": [
    "# Predictions and Curves"
   ]
  },
  {
   "cell_type": "code",
   "execution_count": 40,
   "metadata": {},
   "outputs": [],
   "source": [
    "def plot_ROCs(fpr,tpr,roc_auc,classes):\n",
    "    \"\"\"Display ROCs\"\"\"\n",
    "    \n",
    "    if len(classes) > 5:\n",
    "        sample = random.sample(classes,5)\n",
    "    else:\n",
    "        sample = classes\n",
    "    \n",
    "    plt.figure()\n",
    "    for i in sample:\n",
    "        plt.plot(fpr[i], tpr[i], lw=2,\n",
    "                 label='ROC curve of class {0} (area = {1:0.2f})'\n",
    "                 ''.format(i, roc_auc[i]))\n",
    "\n",
    "    plt.plot([0, 1], [0, 1], color='navy', lw=2, linestyle='--')\n",
    "    plt.xlim([0.0, 1.0])\n",
    "    plt.ylim([0.0, 1.05])\n",
    "    plt.xlabel('False Positive Rate')\n",
    "    plt.ylabel('True Positive Rate')\n",
    "    plt.title('Receiver operating characteristic example')\n",
    "    plt.legend(loc=\"lower right\")\n",
    "    plt.show()"
   ]
  },
  {
   "cell_type": "markdown",
   "metadata": {},
   "source": [
    "Here I evaluate the model on the training data. I calculate the AUROC on each type of product, print the mean AUROC and display a sample of ROCs. I don't expect the model to perform this well on the testing data, but at the very least it performs well on the training data."
   ]
  },
  {
   "cell_type": "code",
   "execution_count": 43,
   "metadata": {},
   "outputs": [
    {
     "name": "stdout",
     "output_type": "stream",
     "text": [
      "Mean Area Under ROCs = 0.99\n"
     ]
    }
   ],
   "source": [
    "fpr,tpr,thr,roc_auc = {},{},{},{}\n",
    "\n",
    "\n",
    "# evaluate on all products\n",
    "products = product_set\n",
    "# # evalute on a sample of the products\n",
    "# products = random.sample(product_set,20)\n",
    "\n",
    "for i in products:\n",
    "    # get predictions for each consumer x on product i\n",
    "    predictions = df['customer_id'].apply(lambda x: model.predict(x,i))\n",
    "    # get each customer's true purchases\n",
    "    true_purchases = df['product_id'] == i\n",
    "    # calculate false-positive-rate and true-positive-rate\n",
    "    fpr[i], tpr[i], thr[i] = roc_curve(true_purchases,predictions)\n",
    "    # calculate area under ROC\n",
    "    roc_auc[i] = auc(fpr[i], tpr[i])\n",
    "    \n",
    "AUROC_mean = np.mean(list(roc_auc.values()))\n",
    "print('Mean Area Under ROCs = {0:0.2f}'.format(AUROC_mean))"
   ]
  },
  {
   "cell_type": "code",
   "execution_count": 44,
   "metadata": {},
   "outputs": [
    {
     "data": {
      "image/png": "[encoded data removed]",
      "text/plain": [
       "<matplotlib.figure.Figure at 0x7fc5869857b8>"
      ]
     },
     "metadata": {},
     "output_type": "display_data"
    }
   ],
   "source": [
    "plot_ROCs(fpr,tpr,roc_auc,products)"
   ]
  }
 ],
 "metadata": {
  "anaconda-cloud": {},
  "kernelspec": {
   "display_name": "Python 3",
   "language": "python",
   "name": "python3"
  },
  "language_info": {
   "codemirror_mode": {
    "name": "ipython",
    "version": 3
   },
   "file_extension": ".py",
   "mimetype": "text/x-python",
   "name": "python",
   "nbconvert_exporter": "python",
   "pygments_lexer": "ipython3",
   "version": "3.6.3"
  }
 },
 "nbformat": 4,
 "nbformat_minor": 1
}
