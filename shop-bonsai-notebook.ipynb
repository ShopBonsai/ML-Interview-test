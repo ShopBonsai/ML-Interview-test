{
 "cells": [
  {
   "cell_type": "markdown",
   "metadata": {},
   "source": [
    "### Scenario:\n",
    "You joined as the new memeber of a small start-up team. Together we are building a new app to sell cool 3rd product products! So far, the sales team worked tirelessly and managed to acquire over 50 merchants who each have different brands and products offerings. The developers have made a ton of progress on the mobile app and there's a bunch of user activity on the app. The analytics platform Mixpanel is used to collect all the user event data. The next step is to optimize user conversion rates by offering new recommendations based on the analytics data.\n",
    "\n",
    "### Goal:\n",
    "Your task is to recommend a product that a user is most likely to buy next using the purchase history provided.\n",
    "\n",
    "For the purpose of this interview test, we have provided mock data on customer purchase history from an e-commerce retail company. The 'Purchased Product' events were queried through Mixpanel's API and is exported into the file training_mixpanel.txt, as provided, in JSON format. Each event describes a singular product purchased by a particular user, with descriptive attributes of the product (e.g., quantity, unit price). Transactions purchasing multiple products is denoted by invoice_no."
   ]
  },
  {
   "cell_type": "markdown",
   "metadata": {},
   "source": [
    "## Introduction\n",
    "\n",
    "This notebook describes the process of solving a **Product Recommendation problem**. Before this notebook was created a short exploratory analysis was made (not included). After Data Preprocessing we create **LightFM model**, as a Python implementation of a number of popular recommendation algorithms, it makes it possible to incorporate both item and user metadata into the traditional matrix factorization algorithms. After that we create **CatBoost Classifier** model (is a machine learning algorithm that uses gradient boosting on decision trees, works good with categorical variables) to predict future purchases by each customer. For a classification problem purpose, we create a fake dataset, which could imitate a real-world situation, when a web-site visitor not only buys goods, but also chooses from a variety of other products (this range is randomly generated in our case). Finally, we mix results of 2 models and get final matrix for submission."
   ]
  },
  {
   "cell_type": "code",
   "execution_count": 3,
   "metadata": {
    "collapsed": false
   },
   "outputs": [],
   "source": [
    "import pandas as pd\n",
    "import numpy as np\n",
    "\n",
    "import datetime as dt\n",
    "\n",
    "%matplotlib inline\n",
    "import matplotlib.pyplot as plt\n",
    "import seaborn as sns\n",
    "\n",
    "import random\n",
    "\n",
    "import os\n",
    "path = '...'   #set a path to the data\n",
    "os.chdir(path)\n",
    "\n",
    "from scipy.sparse import dok_matrix\n",
    "import scipy.sparse as sparse\n",
    "\n",
    "from sklearn.preprocessing import StandardScaler, LabelEncoder\n",
    "from sklearn.metrics import roc_auc_score\n",
    "from sklearn.model_selection import KFold\n",
    "\n",
    "from lightfm import LightFM   #http://lyst.github.io/lightfm/docs/home.html\n",
    "from lightfm.evaluation import auc_score\n",
    "\n",
    "from catboost import CatBoostClassifier, Pool   #https://tech.yandex.com/catboost/doc/dg/concepts/about-docpage/"
   ]
  },
  {
   "cell_type": "markdown",
   "metadata": {},
   "source": [
    "## Data Preprocessing\n",
    "\n",
    "#### STEPS:\n",
    "- load data\n",
    "- filter negative values in a quantity column (it might be returns)\n",
    "- create some Data Frames (DF), sparse matrices, variables, and features for further analysis and modeling"
   ]
  },
  {
   "cell_type": "code",
   "execution_count": 6,
   "metadata": {
    "collapsed": false
   },
   "outputs": [
    {
     "name": "stdout",
     "output_type": "stream",
     "text": [
      "Data size: (315955, 8)\n",
      "NA in Data: 0\n"
     ]
    }
   ],
   "source": [
    "%%time\n",
    "#download data\n",
    "data = pd.read_json('training_mixpanel.txt')\n",
    "data = pd.DataFrame(data.properties.tolist())\n",
    "\n",
    "#we have some negative value in a quantity column, it looks like we have returns. let's remove these values from our dataset\n",
    "mask = data.quantity > 0 \n",
    "data = data[mask]\n",
    "\n",
    "#we don't have missings/NAs in data\n",
    "print(\"Data size: {}\".format(data.shape)),   #data size\n",
    "print(\"NA in Data: {}\".format(data.isnull().sum().sum()))   #NAs qty\n",
    "\n",
    "#create some features\n",
    "data['ttl_price_ln'] = np.log1p(data['unit_price'] * data['quantity'])   #logorithm of total price for the item\n",
    "data['ones'] = 1   #vector with ones\n",
    "\n",
    "#create DF with customer_id+country keys. it would help to understand the most frequent country for each customer\n",
    "df_frq_by_id_and_country = data.groupby(['customer_id', 'country'])['quantity'].sum().reset_index()\n",
    "df_frq_by_id_and_country.columns = ['customer_id', 'country', 'id_ctry_weight']\n",
    "data = pd.merge(data, df_frq_by_id_and_country, on=['customer_id', 'country'], how='left')\n",
    "\n",
    "#create list of unique products (columns for the final matrix)\n",
    "products = data.product_id.unique()\n",
    "\n",
    "#create DF and sparse matrix\n",
    "df_cust_item = pd.pivot_table(data, index='customer_id', columns='product_id', values='ones', aggfunc=np.sum).fillna(0)\n",
    "custitem_sparse = sparse.coo_matrix(np.array(df_cust_item))\n",
    "\n",
    "#create DF with information about Product, Customer, Country. So, we will use this information as features in our models \n",
    "\n",
    "#customers' features DF (1)\n",
    "df_cust = data.groupby('customer_id').agg({'ttl_price_ln':[np.mean, np.median, np.size, np.std], \n",
    "                             'invoice_no':[lambda x: len(x.unique())]})\n",
    "df_cust.columns = ['cust_mean', 'cust_median', 'cust_size', 'cust_std', 'cust_inv_num']\n",
    "df_cust = df_cust.fillna(df_cust.mean())\n",
    "                         \n",
    "#products (2)\n",
    "df_prod = data.groupby('product_id').agg({'ttl_price_ln':[np.mean, np.median, np.size, np.std], \n",
    "                             'invoice_no':[lambda x: len(x.unique())]})\n",
    "df_prod.columns = ['prod_mean', 'prod_median', 'prod_size', 'prod_std', 'prod_inv_num']\n",
    "df_prod = df_prod.fillna(df_prod.mean())\n",
    "    \n",
    "#countries (3)\n",
    "df_ctry = data.groupby('country').agg({'ttl_price_ln':[np.mean, np.median, np.size, np.std], \n",
    "                             'invoice_no':[lambda x: len(x.unique())]}).reset_index()\n",
    "df_ctry.columns = ['country', 'ctry_mean', 'ctry_median', 'ctry_size', 'ctry_std', 'ctry_inv_num']\n",
    "df_ctry = df_ctry.fillna(df_ctry.mean())    \n",
    "                            \n",
    "                         \n",
    "#unique countries for each customer\n",
    "df_unique_ctry = data[data.groupby('customer_id')['id_ctry_weight'].transform(np.max) == data['id_ctry_weight']].groupby(\n",
    "    ['customer_id', 'country'])['ones'].sum().reset_index()\n",
    "\n",
    "#DF with dummies by countries\n",
    "df_unique_ctry_dum = pd.get_dummies(data[\n",
    "    data.groupby('customer_id')['id_ctry_weight'].transform(np.max) == data['id_ctry_weight']].groupby(\n",
    "    ['customer_id', 'country'])['ones'].sum().reset_index()['country'])\n",
    "\n",
    "#normilize customer & product data\n",
    "scaler = StandardScaler()\n",
    "arr_cust_feat = scaler.fit_transform(np.array(df_cust))\n",
    "arr_prod_feat = scaler.fit_transform(np.array(df_prod))\n",
    "\n",
    "df_cust_feat_ind = df_cust.index\n",
    "df_prod_feat_ind = df_prod.index\n",
    "\n",
    "df_cust_feat = pd.concat([pd.DataFrame(arr_cust_feat, columns=list(df_cust.columns)), \n",
    "                        df_unique_ctry_dum],axis=1)\n",
    "df_cust_feat.set_index(df_cust_feat_ind, inplace=True)\n",
    "\n",
    "custfeat_sparse = sparse.coo_matrix(df_cust_feat.values)\n",
    "prodfeat_sparse = sparse.coo_matrix(df_prod.values)\n",
    "\n",
    "df_cust = df_cust.reset_index()\n",
    "df_prod = df_prod.reset_index()"
   ]
  },
  {
   "cell_type": "markdown",
   "metadata": {
    "collapsed": true
   },
   "source": [
    "## LightFM model: a hybrid latent representation recommender model\n",
    "\n",
    "#### STEPS:\n",
    "- train model\n",
    "- make predictions: M x N matrix\n",
    "- some ideas for future analysis\n",
    "\n",
    "A few sentences from Maciej Kula paper about this algorithm (https://arxiv.org/pdf/1507.08439.pdf):\n",
    "\n",
    "*I present **a hybrid matrix factorisation** model representing users and items as linear combinations of their content features’ latent factors. The model outperforms both **collaborative and content-based models** in cold-start or sparse interaction data scenarios (using both user and item metadata), and performs at least as well as a pure collaborative matrix factorisation model where interaction data is abundant. Additionally, **feature embeddings** produced by the model encode semantic information in a way reminiscent of word embedding approaches, making them useful for a range of related tasks.*"
   ]
  },
  {
   "cell_type": "code",
   "execution_count": 17,
   "metadata": {
    "collapsed": false
   },
   "outputs": [
    {
     "name": "stdout",
     "output_type": "stream",
     "text": [
      "Wall time: 38.8 s\n"
     ]
    }
   ],
   "source": [
    "%%time\n",
    "#compute LightFM model (a hybrid latent representation recommender model)\n",
    "#the hybrid model in this case means that it uses content and collaboration based techniques\n",
    "\n",
    "NUM_TREADS = 2\n",
    "NO_COMPS = 30\n",
    "NO_EPOCHS = 3\n",
    "\n",
    "model = LightFM(no_components=NO_COMPS, loss='bpr', random_state=17)\n",
    "model.fit(custitem_sparse, epochs=NO_EPOCHS, num_threads=NUM_TREADS, \n",
    "          user_features=custfeat_sparse, item_features=prodfeat_sparse)"
   ]
  },
  {
   "cell_type": "code",
   "execution_count": 31,
   "metadata": {
    "collapsed": false
   },
   "outputs": [
    {
     "data": {
      "text/plain": [
       "0.70121706"
      ]
     },
     "execution_count": 31,
     "metadata": {},
     "output_type": "execute_result"
    }
   ],
   "source": [
    "#print the AUC score\n",
    "\n",
    "train_auc = auc_score(model, custitem_sparse, num_threads=NUM_TREADS, \n",
    "                      user_features=custfeat_sparse, item_features=prodfeat_sparse)\n",
    "\n",
    "#we get a quite good AUC score. it's better to use cross-validation techniques to avoid a overfitting problem\n",
    "train_auc.mean()"
   ]
  },
  {
   "cell_type": "code",
   "execution_count": 42,
   "metadata": {
    "collapsed": false
   },
   "outputs": [
    {
     "name": "stdout",
     "output_type": "stream",
     "text": [
      "Wall time: 2min 6s\n"
     ]
    }
   ],
   "source": [
    "%%time\n",
    "#predict a results vector for each customer\n",
    "\n",
    "results_lightfm = np.arange(len(df_prod_feat_ind))\n",
    "\n",
    "for user_id in np.arange(len(df_cust_feat_ind)):\n",
    "    recom = model.predict(user_id, np.arange(len(df_prod_feat_ind)), \n",
    "                          user_features=custfeat_sparse, item_features=prodfeat_sparse, num_threads=NUM_TREADS)\n",
    "    \n",
    "    results_lightfm = np.vstack((results, recom))"
   ]
  },
  {
   "cell_type": "code",
   "execution_count": 58,
   "metadata": {
    "collapsed": false
   },
   "outputs": [],
   "source": [
    "#save results (lightfm)\n",
    "pd.DataFrame(results[1:], index=df_cust_feat_ind, columns=df_prod_feat_ind).to_csv(\n",
    "    path + '/results_lightfm.csv')"
   ]
  },
  {
   "cell_type": "code",
   "execution_count": 37,
   "metadata": {
    "collapsed": false
   },
   "outputs": [
    {
     "data": {
      "image/png": "[encoded data removed]",
      "text/plain": [
       "<matplotlib.figure.Figure at 0x196c18ee358>"
      ]
     },
     "metadata": {},
     "output_type": "display_data"
    }
   ],
   "source": [
    "#also we could do an additional analysis with lightfm model results. for example, we could see AUC score by countries \n",
    "auc_score_by_id = pd.DataFrame(train_auc, index=df_cust['customer_id']).reset_index()\n",
    "auc_score_by_id.columns = ['customer_id', 'auc_score']\n",
    "\n",
    "data_w_auc = pd.merge(data, auc_score_by_id, on='customer_id', how='left')\n",
    "\n",
    "data_w_auc = data_w_auc.groupby('country').agg({'auc_score': [np.mean, np.size]})\n",
    "data_w_auc.columns = ['auc_score', 'sample_size']\n",
    "data_w_auc['auc_score'].sort_values(ascending=False).plot(kind='bar');"
   ]
  },
  {
   "cell_type": "markdown",
   "metadata": {},
   "source": [
    "## Classification Analysis: Decision Trees (CatBoost)\n",
    "\n",
    "We use a tree-based algorithm to predict a probability of buying products by each customer. From one side knowing what would be bought in the future might help us to recommend relevant products to the customer (or visitor on the web-site), but from the other side we have a problem when we recommend to buy a product, which customer wanted to buy even without this reco. We have to keep in mind this idea. The real performance of this approach have to be checked on a real web-site with A/B testing.\n",
    "\n",
    "OK, for the classification analysis purpose, we create a fake DF, where we randomly generate products, which customer didn't buy. We generate fake 2 rows for each real (1/3 ratio). It's better to increase the value of fake rows up-to 5, but for this task we will stay with 2, because of our PC power and additional memory consumption.\n",
    "\n",
    "#### STEPS:\n",
    "- generate a random dataset\n",
    "- create DF with 0 and 1 classes\n",
    "- split and save test DF on PC\n",
    "- data preprocessing for CatBoostClassifier\n",
    "- cross-validation (5-Folds)\n",
    "- M x N matrix with answers"
   ]
  },
  {
   "cell_type": "code",
   "execution_count": 9,
   "metadata": {
    "collapsed": false
   },
   "outputs": [
    {
     "name": "stdout",
     "output_type": "stream",
     "text": [
      "Wall time: 13 s\n"
     ]
    }
   ],
   "source": [
    "%%time\n",
    "#add random choosen products to the initial dataset (as zero examples)\n",
    "\n",
    "NUM_DUPL = 2 #duplicates number\n",
    "\n",
    "df_inv_prod = data.groupby('invoice_no')['product_id'].apply(lambda x: list(x)).reset_index()\n",
    "\n",
    "df_inv_prod['zero_ex'] = df_inv_prod['product_id'].apply(lambda x: random.choices(list(set(list(products)) - set(x)), \n",
    "                                                                                  k=len(x) * NUM_DUPL))\n",
    "\n",
    "df_inv_prod['len'] = df_inv_prod['zero_ex'].apply(lambda x: len(x))\n",
    "\n",
    "df_inv_prod = pd.concat([df_inv_prod['zero_ex'].apply(pd.Series).stack().reset_index(drop=True),\n",
    "                         pd.Series.repeat(df_inv_prod['invoice_no'], reps=df_inv_prod['len']).reset_index(drop=True)], axis=1)\n",
    "\n",
    "df_inv_prod.columns = ['product_id', 'invoice_no']\n",
    "\n",
    "df_inv_prod = pd.merge(df_inv_prod, data.drop(['product_id', 'quantity', 'unit_price', \n",
    "                                               'ttl_price_ln', 'ones', 'id_ctry_weight'], \n",
    "                                              axis=1).groupby(['invoice_no', 'country', 'invoice_date']).mean().reset_index(),\n",
    "                       on='invoice_no', how='left')\n",
    "\n",
    "df_inv_prod.head()"
   ]
  },
  {
   "cell_type": "code",
   "execution_count": 10,
   "metadata": {
    "collapsed": false
   },
   "outputs": [
    {
     "name": "stdout",
     "output_type": "stream",
     "text": [
      "Wall time: 2.13 s\n"
     ]
    }
   ],
   "source": [
    "%%time\n",
    "#create DF for solving binary classification problem (decision tree approach)\n",
    "\n",
    "df_class = pd.concat([data, df_inv_prod])[\n",
    "    ['country', 'customer_id', 'invoice_no', 'ones', 'product_id']].fillna(0)\n",
    "\n",
    "df_cust_inv_num = df_class.groupby(['customer_id', 'invoice_no'])['ones'].max().reset_index()\n",
    "df_cust_inv_num['inv_num'] = df_class.groupby(\n",
    "    ['customer_id', 'invoice_no'])['ones'].max().reset_index().groupby('customer_id')['ones'].transform(pd.Series.cumsum)\n",
    "\n",
    "df_class = pd.merge(df_class, df_cust_inv_num[['customer_id', 'invoice_no', 'inv_num']],\n",
    "                    on=['customer_id', 'invoice_no'], how='left')\n",
    "\n",
    "df_class.drop('invoice_no', axis=1, inplace=True)\n",
    "\n",
    "df_class.head()"
   ]
  },
  {
   "cell_type": "code",
   "execution_count": null,
   "metadata": {
    "collapsed": true
   },
   "outputs": [],
   "source": [
    "\"\"\"\n",
    "\n",
    "%%time\n",
    "#create test DF, where for each customer we add the unique products vector // split test DF on 3 parts\n",
    "\n",
    "unique_customers = df_class.customer_id.unique()\n",
    "unique_customers_dict = {}\n",
    "\n",
    "unique_customers_dict['1'] = list(df_class.customer_id.unique())[: int(1/3 * len(unique_customers))]\n",
    "unique_customers_dict['2'] = list(df_class.customer_id.unique())[int(1/3 * len(unique_customers)) : \n",
    "                                                                 int(2/3 * len(unique_customers))]\n",
    "unique_customers_dict['3'] = list(df_class.customer_id.unique())[int(2/3 * len(unique_customers)) :]\n",
    "\n",
    "for t in [1,2,3]:\n",
    "    test = pd.DataFrame()\n",
    "    \n",
    "    for cust in tqdm_notebook(unique_customers_dict[str(t)]):\n",
    "        df = pd.DataFrame(products)\n",
    "        df.columns = ['product_id']\n",
    "    \n",
    "        df['customer_id'] = int(cust)\n",
    "        df['country'] = df_unique_ctry[df_unique_ctry.customer_id == int(cust)]['country'].values[0]\n",
    "        df['inv_num'] = df_class[df_class['customer_id'] == int(cust)]['inv_num'].max()+1\n",
    "    \n",
    "        test = pd.concat([test, df], axis=0)\n",
    "        \n",
    "    test.to_csv(path + '/test0' + str(t) + '.csv')"
   ]
  },
  {
   "cell_type": "code",
   "execution_count": 11,
   "metadata": {
    "collapsed": true
   },
   "outputs": [],
   "source": [
    "#highlight categorical features and encode them\n",
    "\n",
    "cat_feat = ['country', 'customer_id', 'product_id']\n",
    "\n",
    "lbl = LabelEncoder()\n",
    "\n",
    "label_dict = {}\n",
    "\n",
    "for lab in cat_feat:\n",
    "    label = lbl.fit_transform(df_class[lab].unique())\n",
    "    label_dict[lab] = dict(zip(lbl.classes_, range(len(lbl.classes_))))\n",
    "\n",
    "#save indexes of categorical features for CatBoost\n",
    "cat_feat_ind = []\n",
    "\n",
    "for i in cat_feat:\n",
    "    cat_feat_ind.append(list(df_class.columns).index(i))\n",
    "    \n",
    "#add extra features to DF (pool of these features could be expanded to achive a high accuracy metric)\n",
    "df_class = pd.merge(df_class, df_cust, on='customer_id', how='left')\n",
    "df_class = pd.merge(df_class, df_prod, on='product_id', how='left')\n",
    "df_class = pd.merge(df_class, df_ctry, on='country', how='left')\n",
    "\n",
    "#mapping labels from the dictionary for category variables\n",
    "for cat in cat_feat:\n",
    "    df_class[cat] = df_class[cat].map(label_dict[cat])"
   ]
  },
  {
   "cell_type": "code",
   "execution_count": 12,
   "metadata": {
    "collapsed": true
   },
   "outputs": [],
   "source": [
    "#create train DF and target vector Y\n",
    "\n",
    "train = df_class.drop('ones', axis=1)\n",
    "train_y = df_class['ones']\n",
    "    \n",
    "train_pool = Pool(train, label=train_y, cat_features=cat_feat_ind, has_header=True)"
   ]
  },
  {
   "cell_type": "code",
   "execution_count": 32,
   "metadata": {
    "collapsed": false
   },
   "outputs": [
    {
     "name": "stdout",
     "output_type": "stream",
     "text": [
      "ROC-AUC score = 0.7151607364457707\n",
      "Wall time: 1min 7s\n"
     ]
    }
   ],
   "source": [
    "%%time\n",
    "\n",
    "#train CatBoost model\n",
    "model = CatBoostClassifier(iterations=100, \n",
    "                           learning_rate=0.05,  \n",
    "                           random_seed = 17,\n",
    "                           custom_metric = ['AUC'],\n",
    "                           logging_level='Silent')\n",
    "    \n",
    "model.fit(train_pool)\n",
    "\n",
    "pred = model.predict(train_pool)\n",
    "print(\"ROC-AUC score = {}\".format(roc_auc_score(train_y, pred)))"
   ]
  },
  {
   "cell_type": "code",
   "execution_count": null,
   "metadata": {
    "collapsed": false
   },
   "outputs": [],
   "source": [
    "\"\"\"\n",
    "\n",
    "%%time\n",
    "\n",
    "#cross-validation\n",
    "K=5\n",
    "\n",
    "kf = KFold(n_splits=K, random_state=17, shuffle=True)\n",
    "kf.get_n_splits(range(len(df_class)))  \n",
    "\n",
    "for i, (train_index, valid_index) in enumerate(kf.split(range(len(df_class)))):\n",
    "    df1 = df_class.loc[train_index].copy()\n",
    "    df2 = df_class.loc[valid_index].copy()\n",
    "\n",
    "    df1.to_csv(path + \"/train\" + str(i) + \".csv\",index=False)\n",
    "    df2.to_csv(path + \"/valid\" + str(i) + \".csv\", index=False)"
   ]
  },
  {
   "cell_type": "code",
   "execution_count": null,
   "metadata": {
    "collapsed": false
   },
   "outputs": [],
   "source": [
    "\"\"\"\n",
    "\n",
    "%%time\n",
    "\n",
    "#train and evaluate our model on each fold\n",
    "pred_test = 0\n",
    "\n",
    "for i in range(K):\n",
    "\n",
    "    TRAIN_FILE = pd.read_csv(path + \"/train\" + str(i) + \".csv\")\n",
    "    VAL_FILE = pd.read_csv(path + \"/valid\" + str(i) + \".csv\")\n",
    "\n",
    "    train_pool = Pool(TRAIN_FILE.drop('ones', axis=1), label=TRAIN_FILE['ones'], cat_features=cat_feat_ind, has_header=True)\n",
    "    val_pool = Pool(VAL_FILE.drop('ones', axis=1), label=VAL_FILE['ones'], cat_features=cat_feat_ind, has_header=True)\n",
    "\n",
    "    \n",
    "    \n",
    "    model = CatBoostClassifier(iterations=10, \n",
    "                           learning_rate=0.05,  \n",
    "                           random_seed = 17,\n",
    "                           custom_metric = ['AUC'],\n",
    "                           logging_level='Silent')\n",
    "    \n",
    "    model.fit(train_pool, eval_set = val_pool)\n",
    "    \n",
    "    test_prob_vector = np.arange(2)\n",
    "    \n",
    "    for i in [1, 2, 3]:\n",
    "        test = pd.read_csv(path + '/test0' + str(i) + '.csv', index_col='Unnamed: 0')\n",
    "    \n",
    "        test = pd.merge(test, df_cust, on='customer_id', how='left')\n",
    "        test = pd.merge(test, df_prod, on='product_id', how='left')\n",
    "        test = pd.merge(test, df_ctry, on='country', how='left')\n",
    "    \n",
    "        for cat in cat_feat:\n",
    "            test[cat] = test[cat].map(label_dict[cat])\n",
    "    \n",
    "        test = test[TRAIN_FILE.drop('ones', axis=1).columns]\n",
    "    \n",
    "        test_pool = Pool(test, cat_features=cat_feat_ind, has_header=True)\n",
    "        del test\n",
    "        \n",
    "        test_prob_vector = np.vstack((test_prob_vector, model.predict_proba(test_pool)))\n",
    "    \n",
    "    pred_test = test_prob_vector + pred_test\n",
    "\n",
    "pred_test = pred_test / K"
   ]
  },
  {
   "cell_type": "code",
   "execution_count": 34,
   "metadata": {
    "collapsed": false
   },
   "outputs": [
    {
     "name": "stdout",
     "output_type": "stream",
     "text": [
      "Wall time: 4min 43s\n"
     ]
    }
   ],
   "source": [
    "%%time\n",
    "\n",
    "#create vectores of products and custumers\n",
    "test_index = np.arange(2) #product_id, customer_id\n",
    "results_catboost = np.arange(1)\n",
    "\n",
    "\n",
    "for i in [1, 2, 3]:\n",
    "    test = pd.read_csv(path + /'test0' + str(i) + '.csv', index_col='Unnamed: 0')\n",
    "    test_index = np.vstack((test_index, test[['product_id', 'customer_id']].values))\n",
    "\n",
    "    test = pd.merge(test, df_cust, on='customer_id', how='left')\n",
    "    test = pd.merge(test, df_prod, on='product_id', how='left')\n",
    "    test = pd.merge(test, df_ctry, on='country', how='left')\n",
    "    \n",
    "    for cat in cat_feat:\n",
    "        test[cat] = test[cat].map(label_dict[cat])\n",
    "    \n",
    "    test = test[train.columns]\n",
    "    \n",
    "    test_pool = Pool(test, cat_features=cat_feat_ind, has_header=True)\n",
    "    del test\n",
    "    \n",
    "    results_catboost = np.vstack((results_catboost, model.predict_proba(test_pool)[:,1:]))\n",
    "    \n",
    "\n",
    "test_index = test_index[1:]  \n",
    "results_catboost = results_catboost[1:]"
   ]
  },
  {
   "cell_type": "code",
   "execution_count": null,
   "metadata": {
    "collapsed": false
   },
   "outputs": [],
   "source": [
    "#create N x M matrix with answers\n",
    "\n",
    "global_prob_mean = 1/3 #global probability; in our fake dataset we have 1/3 ratio for one purchased item\n",
    "\n",
    "df_results_catboost = pd.DataFrame(test_index)\n",
    "df_results_catboost.columns = ['product_id', 'customer_id']\n",
    "df_results_catboost['prob'] = results_catboost - global_prob_mean\n",
    "\n",
    "df_results_catboost = pd.pivot_table(df_results_catboost, index='customer_id', columns='product_id', \n",
    "                                     values='prob', aggfunc=np.sum)"
   ]
  },
  {
   "cell_type": "code",
   "execution_count": 59,
   "metadata": {
    "collapsed": false
   },
   "outputs": [],
   "source": [
    "df_results_catboost.to_csv(path + '/results_catboost.csv')"
   ]
  },
  {
   "cell_type": "markdown",
   "metadata": {},
   "source": [
    "## Calculate Final Matrix\n",
    "\n",
    "We rank each row (customer_id) in matrices to get results in one-dimensionality. Then we mix these matrices."
   ]
  },
  {
   "cell_type": "code",
   "execution_count": 92,
   "metadata": {
    "collapsed": false
   },
   "outputs": [],
   "source": [
    "#finally we have 2 matrices, which we might blend with weights equal weights\n",
    "df_results_lightfm = pd.read_csv(path + '/results_lightfm.csv', index_col='customer_id')\n",
    "df_results_catboost = pd.read_csv(path + '/results_catboost.csv', index_col='customer_id')"
   ]
  },
  {
   "cell_type": "code",
   "execution_count": 100,
   "metadata": {
    "collapsed": false
   },
   "outputs": [],
   "source": [
    "#submission: rank each customer and mix results of 2 models\n",
    "((df_results_lightfm.rank(axis=1) + \n",
    "  df_results_catboost.rank(axis=1))).to_csv(path + '/submission.csv')"
   ]
  },
  {
   "cell_type": "markdown",
   "metadata": {},
   "source": [
    "##### The submission file is quite large and I unable to upload this file on github, so I uploaded the file on cloud: \n",
    "\n",
    "https://drive.google.com/open?id=1iJVrHdZUOLtfsYJ416N6pbhiiHptSeqN"
   ]
  },
  {
   "cell_type": "markdown",
   "metadata": {},
   "source": [
    "## Conclusion"
   ]
  },
  {
   "cell_type": "markdown",
   "metadata": {},
   "source": [
    "I think a proper validation for this approach would be A/B testing, which evaluates the impact of a new model by running it in a real production environment and testing its performance on a subset of the users of the platform. Admittedly, it's desirable to investigate deeper to achieve more insights into customers' behavior. For instance, we could also test the following ideas:\n",
    "- **Market Basket Analysis** (Apriori Analysis & Association Rules) as part of Exploratory Data Analysis (EDA) *(LightFM uses these techniques in a context of matrix factorization, but with Market Basket Analysis we gain valuable insights for business such as understanding which products occur together in transactions. It doesn't give us good predictions, but it shows similarities of products and products' categories)*\n",
    "- to work with **Product possible features** (best selling/most-frequent products, price segments, comparison of products sets (neighbors / up-selling (selling additional items that complement the item purchased), and cross-selling (selling items in other independent category the customer might be interested in)), **Customer possible features** (customers segmentation: RFM (Recency, Frequency, Monetary), PCA; Sociodemographic characteristics), **Seasonality factors**"
   ]
  }
 ],
 "metadata": {
  "kernelspec": {
   "display_name": "Python 3",
   "language": "python",
   "name": "python3"
  },
  "language_info": {
   "codemirror_mode": {
    "name": "ipython",
    "version": 3
   },
   "file_extension": ".py",
   "mimetype": "text/x-python",
   "name": "python",
   "nbconvert_exporter": "python",
   "pygments_lexer": "ipython3",
   "version": "3.6.2"
  }
 },
 "nbformat": 4,
 "nbformat_minor": 2
}
